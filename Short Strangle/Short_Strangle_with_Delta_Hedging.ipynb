{
  "nbformat": 4,
  "nbformat_minor": 0,
  "metadata": {
    "colab": {
      "provenance": []
    },
    "kernelspec": {
      "name": "python3",
      "display_name": "Python 3"
    },
    "language_info": {
      "name": "python"
    }
  },
  "cells": [
    {
      "cell_type": "markdown",
      "metadata": {
        "id": "ukc_blAAE2c_"
      },
      "source": [
        "### Short strangle with delta hedging"
      ]
    },
    {
      "cell_type": "markdown",
      "metadata": {
        "id": "SeiKmlfWE2c_"
      },
      "source": [
        "https://zerodha.com/varsity/chapter/the-long-short-strangle/"
      ]
    },
    {
      "cell_type": "markdown",
      "metadata": {
        "id": "Q-K2tx_4E2c_"
      },
      "source": [
        "Coming to the reality we can't predict market accurately and it may lead to loss.<br/>\n",
        "So in practice market neutral strategies are very helpful and can give decent returns with very less risk<br/>\n",
        "One such strategy is to sell put and call options such that the overall delta of our positions remains 0."
      ]
    },
    {
      "cell_type": "markdown",
      "metadata": {
        "id": "W9O-19OCE2dA"
      },
      "source": [
        "Try to code the above strategy and manage delta just like given in the previous strategy.<br/>\n",
        "You will only use 35000 puts and calls for this strategy.<br/>\n",
        "Initially sell 10 lots of puts and correspondingly sell x lots of calls such that the delta becomes 0.<br/>\n",
        "Then manage the delta accordingly by just selling or buying call options and not changing the number of put options sold.<br/>\n",
        "Also plot the profit graph on whole data and see the results!<br/>\n",
        "\n",
        "Hint: Do remember that unlike futures which has delta of 1 delta of 35000 puts options would change everytime."
      ]
    },
    {
      "cell_type": "markdown",
      "metadata": {
        "id": "0lWRZW5NE2cq"
      },
      "source": [
        "## Importing important libraries"
      ]
    },
    {
      "cell_type": "code",
      "execution_count": 1,
      "metadata": {
        "id": "7Lb_SRTGE2cs",
        "colab": {
          "base_uri": "https://localhost:8080/"
        },
        "outputId": "e8e1b6cc-31e9-4952-b4de-c15a440baa80"
      },
      "outputs": [
        {
          "output_type": "stream",
          "name": "stdout",
          "text": [
            "Looking in indexes: https://pypi.org/simple, https://us-python.pkg.dev/colab-wheels/public/simple/\n",
            "Collecting py_vollib\n",
            "  Downloading py_vollib-1.0.1.tar.gz (19 kB)\n",
            "  Preparing metadata (setup.py) ... \u001b[?25l\u001b[?25hdone\n",
            "Collecting py_lets_be_rational\n",
            "  Downloading py_lets_be_rational-1.0.1.tar.gz (18 kB)\n",
            "  Preparing metadata (setup.py) ... \u001b[?25l\u001b[?25hdone\n",
            "Collecting simplejson\n",
            "  Downloading simplejson-3.18.1-cp38-cp38-manylinux_2_5_x86_64.manylinux1_x86_64.manylinux_2_17_x86_64.manylinux2014_x86_64.whl (135 kB)\n",
            "\u001b[2K     \u001b[90m━━━━━━━━━━━━━━━━━━━━━━━━━━━━━━━━━━━━━━━\u001b[0m \u001b[32m135.5/135.5 KB\u001b[0m \u001b[31m5.1 MB/s\u001b[0m eta \u001b[36m0:00:00\u001b[0m\n",
            "\u001b[?25hRequirement already satisfied: numpy in /usr/local/lib/python3.8/dist-packages (from py_vollib) (1.21.6)\n",
            "Requirement already satisfied: pandas in /usr/local/lib/python3.8/dist-packages (from py_vollib) (1.3.5)\n",
            "Requirement already satisfied: scipy in /usr/local/lib/python3.8/dist-packages (from py_vollib) (1.7.3)\n",
            "Requirement already satisfied: python-dateutil>=2.7.3 in /usr/local/lib/python3.8/dist-packages (from pandas->py_vollib) (2.8.2)\n",
            "Requirement already satisfied: pytz>=2017.3 in /usr/local/lib/python3.8/dist-packages (from pandas->py_vollib) (2022.7)\n",
            "Requirement already satisfied: six>=1.5 in /usr/local/lib/python3.8/dist-packages (from python-dateutil>=2.7.3->pandas->py_vollib) (1.15.0)\n",
            "Building wheels for collected packages: py_vollib, py_lets_be_rational\n",
            "  Building wheel for py_vollib (setup.py) ... \u001b[?25l\u001b[?25hdone\n",
            "  Created wheel for py_vollib: filename=py_vollib-1.0.1-py3-none-any.whl size=62855 sha256=6c6598fe5f99361da6b0fc65b2c4e32f3171ce7f06e995346b69c6195dffeaa5\n",
            "  Stored in directory: /root/.cache/pip/wheels/38/8d/d9/a680031767bd6a3d734fc7c48a75767591795e47ac66ca143c\n",
            "  Building wheel for py_lets_be_rational (setup.py) ... \u001b[?25l\u001b[?25hdone\n",
            "  Created wheel for py_lets_be_rational: filename=py_lets_be_rational-1.0.1-py3-none-any.whl size=24470 sha256=54d9fb67b4fd23d2c2271de06fd86001628f2325bd6dca7805a4a48191c8c298\n",
            "  Stored in directory: /root/.cache/pip/wheels/e6/67/1e/93e41aebf34e4fd3cb02a865e9c782c9edaac5051f15a01d2e\n",
            "Successfully built py_vollib py_lets_be_rational\n",
            "Installing collected packages: simplejson, py_lets_be_rational, py_vollib\n",
            "Successfully installed py_lets_be_rational-1.0.1 py_vollib-1.0.1 simplejson-3.18.1\n"
          ]
        }
      ],
      "source": [
        "pip install py_vollib"
      ]
    },
    {
      "cell_type": "code",
      "source": [
        "pip install py yfinance"
      ],
      "metadata": {
        "colab": {
          "base_uri": "https://localhost:8080/"
        },
        "id": "V50oTQT6ZLus",
        "outputId": "b38fed2f-6f5b-4928-ea31-34d3b3d05e3d"
      },
      "execution_count": 3,
      "outputs": [
        {
          "output_type": "stream",
          "name": "stdout",
          "text": [
            "Looking in indexes: https://pypi.org/simple, https://us-python.pkg.dev/colab-wheels/public/simple/\n",
            "Requirement already satisfied: py in /usr/local/lib/python3.8/dist-packages (1.11.0)\n",
            "Collecting yfinance\n",
            "  Downloading yfinance-0.2.3-py2.py3-none-any.whl (50 kB)\n",
            "\u001b[2K     \u001b[90m━━━━━━━━━━━━━━━━━━━━━━━━━━━━━━━━━━━━━━━━\u001b[0m \u001b[32m50.4/50.4 KB\u001b[0m \u001b[31m3.7 MB/s\u001b[0m eta \u001b[36m0:00:00\u001b[0m\n",
            "\u001b[?25hCollecting cryptography>=3.3.2\n",
            "  Downloading cryptography-39.0.0-cp36-abi3-manylinux_2_24_x86_64.whl (4.1 MB)\n",
            "\u001b[2K     \u001b[90m━━━━━━━━━━━━━━━━━━━━━━━━━━━━━━━━━━━━━━━━\u001b[0m \u001b[32m4.1/4.1 MB\u001b[0m \u001b[31m44.6 MB/s\u001b[0m eta \u001b[36m0:00:00\u001b[0m\n",
            "\u001b[?25hRequirement already satisfied: lxml>=4.9.1 in /usr/local/lib/python3.8/dist-packages (from yfinance) (4.9.2)\n",
            "Collecting requests>=2.26\n",
            "  Downloading requests-2.28.1-py3-none-any.whl (62 kB)\n",
            "\u001b[2K     \u001b[90m━━━━━━━━━━━━━━━━━━━━━━━━━━━━━━━━━━━━━━━━\u001b[0m \u001b[32m62.8/62.8 KB\u001b[0m \u001b[31m6.7 MB/s\u001b[0m eta \u001b[36m0:00:00\u001b[0m\n",
            "\u001b[?25hRequirement already satisfied: multitasking>=0.0.7 in /usr/local/lib/python3.8/dist-packages (from yfinance) (0.0.11)\n",
            "Requirement already satisfied: pytz>=2022.5 in /usr/local/lib/python3.8/dist-packages (from yfinance) (2022.7)\n",
            "Collecting frozendict>=2.3.4\n",
            "  Downloading frozendict-2.3.4-cp38-cp38-manylinux_2_17_x86_64.manylinux2014_x86_64.whl (110 kB)\n",
            "\u001b[2K     \u001b[90m━━━━━━━━━━━━━━━━━━━━━━━━━━━━━━━━━━━━━━\u001b[0m \u001b[32m111.0/111.0 KB\u001b[0m \u001b[31m11.7 MB/s\u001b[0m eta \u001b[36m0:00:00\u001b[0m\n",
            "\u001b[?25hCollecting html5lib>=1.1\n",
            "  Downloading html5lib-1.1-py2.py3-none-any.whl (112 kB)\n",
            "\u001b[2K     \u001b[90m━━━━━━━━━━━━━━━━━━━━━━━━━━━━━━━━━━━━━━\u001b[0m \u001b[32m112.2/112.2 KB\u001b[0m \u001b[31m13.0 MB/s\u001b[0m eta \u001b[36m0:00:00\u001b[0m\n",
            "\u001b[?25hCollecting beautifulsoup4>=4.11.1\n",
            "  Downloading beautifulsoup4-4.11.1-py3-none-any.whl (128 kB)\n",
            "\u001b[2K     \u001b[90m━━━━━━━━━━━━━━━━━━━━━━━━━━━━━━━━━━━━━━\u001b[0m \u001b[32m128.2/128.2 KB\u001b[0m \u001b[31m15.4 MB/s\u001b[0m eta \u001b[36m0:00:00\u001b[0m\n",
            "\u001b[?25hRequirement already satisfied: pandas>=1.3.0 in /usr/local/lib/python3.8/dist-packages (from yfinance) (1.3.5)\n",
            "Requirement already satisfied: appdirs>=1.4.4 in /usr/local/lib/python3.8/dist-packages (from yfinance) (1.4.4)\n",
            "Requirement already satisfied: numpy>=1.16.5 in /usr/local/lib/python3.8/dist-packages (from yfinance) (1.21.6)\n",
            "Collecting soupsieve>1.2\n",
            "  Downloading soupsieve-2.3.2.post1-py3-none-any.whl (37 kB)\n",
            "Requirement already satisfied: cffi>=1.12 in /usr/local/lib/python3.8/dist-packages (from cryptography>=3.3.2->yfinance) (1.15.1)\n",
            "Requirement already satisfied: six>=1.9 in /usr/local/lib/python3.8/dist-packages (from html5lib>=1.1->yfinance) (1.15.0)\n",
            "Requirement already satisfied: webencodings in /usr/local/lib/python3.8/dist-packages (from html5lib>=1.1->yfinance) (0.5.1)\n",
            "Requirement already satisfied: python-dateutil>=2.7.3 in /usr/local/lib/python3.8/dist-packages (from pandas>=1.3.0->yfinance) (2.8.2)\n",
            "Requirement already satisfied: charset-normalizer<3,>=2 in /usr/local/lib/python3.8/dist-packages (from requests>=2.26->yfinance) (2.1.1)\n",
            "Requirement already satisfied: idna<4,>=2.5 in /usr/local/lib/python3.8/dist-packages (from requests>=2.26->yfinance) (2.10)\n",
            "Requirement already satisfied: urllib3<1.27,>=1.21.1 in /usr/local/lib/python3.8/dist-packages (from requests>=2.26->yfinance) (1.24.3)\n",
            "Requirement already satisfied: certifi>=2017.4.17 in /usr/local/lib/python3.8/dist-packages (from requests>=2.26->yfinance) (2022.12.7)\n",
            "Requirement already satisfied: pycparser in /usr/local/lib/python3.8/dist-packages (from cffi>=1.12->cryptography>=3.3.2->yfinance) (2.21)\n",
            "Installing collected packages: soupsieve, requests, html5lib, frozendict, cryptography, beautifulsoup4, yfinance\n",
            "  Attempting uninstall: requests\n",
            "    Found existing installation: requests 2.25.1\n",
            "    Uninstalling requests-2.25.1:\n",
            "      Successfully uninstalled requests-2.25.1\n",
            "  Attempting uninstall: html5lib\n",
            "    Found existing installation: html5lib 1.0.1\n",
            "    Uninstalling html5lib-1.0.1:\n",
            "      Successfully uninstalled html5lib-1.0.1\n",
            "  Attempting uninstall: beautifulsoup4\n",
            "    Found existing installation: beautifulsoup4 4.6.3\n",
            "    Uninstalling beautifulsoup4-4.6.3:\n",
            "      Successfully uninstalled beautifulsoup4-4.6.3\n",
            "Successfully installed beautifulsoup4-4.11.1 cryptography-39.0.0 frozendict-2.3.4 html5lib-1.1 requests-2.28.1 soupsieve-2.3.2.post1 yfinance-0.2.3\n"
          ]
        }
      ]
    },
    {
      "cell_type": "code",
      "execution_count": 4,
      "metadata": {
        "id": "tSeXWcnpE2cu"
      },
      "outputs": [],
      "source": [
        "import pandas as pd\n",
        "import matplotlib.pyplot as plt\n",
        "import numpy as np\n",
        "\n",
        "from datetime import datetime\n",
        "\n",
        "import warnings\n",
        "warnings.filterwarnings(\"ignore\")\n",
        "\n",
        "# to fetch data \n",
        "import yfinance as yf\n",
        "\n",
        "import scipy.stats as ss\n",
        "\n",
        "import py_vollib.black_scholes.greeks.analytical as derivatives\n",
        "\n",
        "import math"
      ]
    },
    {
      "cell_type": "markdown",
      "metadata": {
        "id": "HQp3r8T7FqfW"
      },
      "source": [
        "### Initialising everything required to calculate delta"
      ]
    },
    {
      "cell_type": "code",
      "execution_count": 9,
      "metadata": {
        "id": "sKL-8QSIE2dA",
        "colab": {
          "base_uri": "https://localhost:8080/",
          "height": 354
        },
        "outputId": "f149d0f9-6f68-49c9-8925-6e9bf8c6a24b"
      },
      "outputs": [
        {
          "output_type": "execute_result",
          "data": {
            "text/plain": [
              "      Symbol         Date       Expiry Option Type  Strike Price     Open  \\\n",
              "0  BANKNIFTY  28-May-2021  24-Jun-2021          CE         35000  1394.65   \n",
              "1  BANKNIFTY  31-May-2021  24-Jun-2021          CE         35000  1197.95   \n",
              "2  BANKNIFTY  01-Jun-2021  24-Jun-2021          CE         35000  1291.90   \n",
              "3  BANKNIFTY  02-Jun-2021  24-Jun-2021          CE         35000  1099.30   \n",
              "4  BANKNIFTY  03-Jun-2021  24-Jun-2021          CE         35000  1163.20   \n",
              "\n",
              "     High     Low    Close      LTP  Settle Price  No. of contracts  \\\n",
              "0  1459.5  1132.0  1213.55  1224.50       1213.55             18138   \n",
              "1  1339.0  1021.6  1308.30  1281.95       1308.30             14456   \n",
              "2  1398.0  1112.3  1155.05  1163.00       1155.05             15231   \n",
              "3  1145.7   982.5  1128.05  1122.00       1128.05             12258   \n",
              "4  1342.5  1111.7  1265.45  1270.00       1265.45              7511   \n",
              "\n",
              "   Turnover in Lacs  Premium  Open Int  Change in OI Underlying_Value  \n",
              "0         164479.84  5772.34    283425         39000         35141.45  \n",
              "1         130864.56  4374.56    245275        -38150                -  \n",
              "2         137967.95  4696.70    345025         99750                -  \n",
              "3         110507.46  3249.96    342375         -2650                -  \n",
              "4          68025.76  2304.51    307825        -34550                -  "
            ],
            "text/html": [
              "\n",
              "  <div id=\"df-56d6f35f-4b31-4072-b463-2a5a1c99e831\">\n",
              "    <div class=\"colab-df-container\">\n",
              "      <div>\n",
              "<style scoped>\n",
              "    .dataframe tbody tr th:only-of-type {\n",
              "        vertical-align: middle;\n",
              "    }\n",
              "\n",
              "    .dataframe tbody tr th {\n",
              "        vertical-align: top;\n",
              "    }\n",
              "\n",
              "    .dataframe thead th {\n",
              "        text-align: right;\n",
              "    }\n",
              "</style>\n",
              "<table border=\"1\" class=\"dataframe\">\n",
              "  <thead>\n",
              "    <tr style=\"text-align: right;\">\n",
              "      <th></th>\n",
              "      <th>Symbol</th>\n",
              "      <th>Date</th>\n",
              "      <th>Expiry</th>\n",
              "      <th>Option Type</th>\n",
              "      <th>Strike Price</th>\n",
              "      <th>Open</th>\n",
              "      <th>High</th>\n",
              "      <th>Low</th>\n",
              "      <th>Close</th>\n",
              "      <th>LTP</th>\n",
              "      <th>Settle Price</th>\n",
              "      <th>No. of contracts</th>\n",
              "      <th>Turnover in Lacs</th>\n",
              "      <th>Premium</th>\n",
              "      <th>Open Int</th>\n",
              "      <th>Change in OI</th>\n",
              "      <th>Underlying_Value</th>\n",
              "    </tr>\n",
              "  </thead>\n",
              "  <tbody>\n",
              "    <tr>\n",
              "      <th>0</th>\n",
              "      <td>BANKNIFTY</td>\n",
              "      <td>28-May-2021</td>\n",
              "      <td>24-Jun-2021</td>\n",
              "      <td>CE</td>\n",
              "      <td>35000</td>\n",
              "      <td>1394.65</td>\n",
              "      <td>1459.5</td>\n",
              "      <td>1132.0</td>\n",
              "      <td>1213.55</td>\n",
              "      <td>1224.50</td>\n",
              "      <td>1213.55</td>\n",
              "      <td>18138</td>\n",
              "      <td>164479.84</td>\n",
              "      <td>5772.34</td>\n",
              "      <td>283425</td>\n",
              "      <td>39000</td>\n",
              "      <td>35141.45</td>\n",
              "    </tr>\n",
              "    <tr>\n",
              "      <th>1</th>\n",
              "      <td>BANKNIFTY</td>\n",
              "      <td>31-May-2021</td>\n",
              "      <td>24-Jun-2021</td>\n",
              "      <td>CE</td>\n",
              "      <td>35000</td>\n",
              "      <td>1197.95</td>\n",
              "      <td>1339.0</td>\n",
              "      <td>1021.6</td>\n",
              "      <td>1308.30</td>\n",
              "      <td>1281.95</td>\n",
              "      <td>1308.30</td>\n",
              "      <td>14456</td>\n",
              "      <td>130864.56</td>\n",
              "      <td>4374.56</td>\n",
              "      <td>245275</td>\n",
              "      <td>-38150</td>\n",
              "      <td>-</td>\n",
              "    </tr>\n",
              "    <tr>\n",
              "      <th>2</th>\n",
              "      <td>BANKNIFTY</td>\n",
              "      <td>01-Jun-2021</td>\n",
              "      <td>24-Jun-2021</td>\n",
              "      <td>CE</td>\n",
              "      <td>35000</td>\n",
              "      <td>1291.90</td>\n",
              "      <td>1398.0</td>\n",
              "      <td>1112.3</td>\n",
              "      <td>1155.05</td>\n",
              "      <td>1163.00</td>\n",
              "      <td>1155.05</td>\n",
              "      <td>15231</td>\n",
              "      <td>137967.95</td>\n",
              "      <td>4696.70</td>\n",
              "      <td>345025</td>\n",
              "      <td>99750</td>\n",
              "      <td>-</td>\n",
              "    </tr>\n",
              "    <tr>\n",
              "      <th>3</th>\n",
              "      <td>BANKNIFTY</td>\n",
              "      <td>02-Jun-2021</td>\n",
              "      <td>24-Jun-2021</td>\n",
              "      <td>CE</td>\n",
              "      <td>35000</td>\n",
              "      <td>1099.30</td>\n",
              "      <td>1145.7</td>\n",
              "      <td>982.5</td>\n",
              "      <td>1128.05</td>\n",
              "      <td>1122.00</td>\n",
              "      <td>1128.05</td>\n",
              "      <td>12258</td>\n",
              "      <td>110507.46</td>\n",
              "      <td>3249.96</td>\n",
              "      <td>342375</td>\n",
              "      <td>-2650</td>\n",
              "      <td>-</td>\n",
              "    </tr>\n",
              "    <tr>\n",
              "      <th>4</th>\n",
              "      <td>BANKNIFTY</td>\n",
              "      <td>03-Jun-2021</td>\n",
              "      <td>24-Jun-2021</td>\n",
              "      <td>CE</td>\n",
              "      <td>35000</td>\n",
              "      <td>1163.20</td>\n",
              "      <td>1342.5</td>\n",
              "      <td>1111.7</td>\n",
              "      <td>1265.45</td>\n",
              "      <td>1270.00</td>\n",
              "      <td>1265.45</td>\n",
              "      <td>7511</td>\n",
              "      <td>68025.76</td>\n",
              "      <td>2304.51</td>\n",
              "      <td>307825</td>\n",
              "      <td>-34550</td>\n",
              "      <td>-</td>\n",
              "    </tr>\n",
              "  </tbody>\n",
              "</table>\n",
              "</div>\n",
              "      <button class=\"colab-df-convert\" onclick=\"convertToInteractive('df-56d6f35f-4b31-4072-b463-2a5a1c99e831')\"\n",
              "              title=\"Convert this dataframe to an interactive table.\"\n",
              "              style=\"display:none;\">\n",
              "        \n",
              "  <svg xmlns=\"http://www.w3.org/2000/svg\" height=\"24px\"viewBox=\"0 0 24 24\"\n",
              "       width=\"24px\">\n",
              "    <path d=\"M0 0h24v24H0V0z\" fill=\"none\"/>\n",
              "    <path d=\"M18.56 5.44l.94 2.06.94-2.06 2.06-.94-2.06-.94-.94-2.06-.94 2.06-2.06.94zm-11 1L8.5 8.5l.94-2.06 2.06-.94-2.06-.94L8.5 2.5l-.94 2.06-2.06.94zm10 10l.94 2.06.94-2.06 2.06-.94-2.06-.94-.94-2.06-.94 2.06-2.06.94z\"/><path d=\"M17.41 7.96l-1.37-1.37c-.4-.4-.92-.59-1.43-.59-.52 0-1.04.2-1.43.59L10.3 9.45l-7.72 7.72c-.78.78-.78 2.05 0 2.83L4 21.41c.39.39.9.59 1.41.59.51 0 1.02-.2 1.41-.59l7.78-7.78 2.81-2.81c.8-.78.8-2.07 0-2.86zM5.41 20L4 18.59l7.72-7.72 1.47 1.35L5.41 20z\"/>\n",
              "  </svg>\n",
              "      </button>\n",
              "      \n",
              "  <style>\n",
              "    .colab-df-container {\n",
              "      display:flex;\n",
              "      flex-wrap:wrap;\n",
              "      gap: 12px;\n",
              "    }\n",
              "\n",
              "    .colab-df-convert {\n",
              "      background-color: #E8F0FE;\n",
              "      border: none;\n",
              "      border-radius: 50%;\n",
              "      cursor: pointer;\n",
              "      display: none;\n",
              "      fill: #1967D2;\n",
              "      height: 32px;\n",
              "      padding: 0 0 0 0;\n",
              "      width: 32px;\n",
              "    }\n",
              "\n",
              "    .colab-df-convert:hover {\n",
              "      background-color: #E2EBFA;\n",
              "      box-shadow: 0px 1px 2px rgba(60, 64, 67, 0.3), 0px 1px 3px 1px rgba(60, 64, 67, 0.15);\n",
              "      fill: #174EA6;\n",
              "    }\n",
              "\n",
              "    [theme=dark] .colab-df-convert {\n",
              "      background-color: #3B4455;\n",
              "      fill: #D2E3FC;\n",
              "    }\n",
              "\n",
              "    [theme=dark] .colab-df-convert:hover {\n",
              "      background-color: #434B5C;\n",
              "      box-shadow: 0px 1px 3px 1px rgba(0, 0, 0, 0.15);\n",
              "      filter: drop-shadow(0px 1px 2px rgba(0, 0, 0, 0.3));\n",
              "      fill: #FFFFFF;\n",
              "    }\n",
              "  </style>\n",
              "\n",
              "      <script>\n",
              "        const buttonEl =\n",
              "          document.querySelector('#df-56d6f35f-4b31-4072-b463-2a5a1c99e831 button.colab-df-convert');\n",
              "        buttonEl.style.display =\n",
              "          google.colab.kernel.accessAllowed ? 'block' : 'none';\n",
              "\n",
              "        async function convertToInteractive(key) {\n",
              "          const element = document.querySelector('#df-56d6f35f-4b31-4072-b463-2a5a1c99e831');\n",
              "          const dataTable =\n",
              "            await google.colab.kernel.invokeFunction('convertToInteractive',\n",
              "                                                     [key], {});\n",
              "          if (!dataTable) return;\n",
              "\n",
              "          const docLinkHtml = 'Like what you see? Visit the ' +\n",
              "            '<a target=\"_blank\" href=https://colab.research.google.com/notebooks/data_table.ipynb>data table notebook</a>'\n",
              "            + ' to learn more about interactive tables.';\n",
              "          element.innerHTML = '';\n",
              "          dataTable['output_type'] = 'display_data';\n",
              "          await google.colab.output.renderOutput(dataTable, element);\n",
              "          const docLink = document.createElement('div');\n",
              "          docLink.innerHTML = docLinkHtml;\n",
              "          element.appendChild(docLink);\n",
              "        }\n",
              "      </script>\n",
              "    </div>\n",
              "  </div>\n",
              "  "
            ]
          },
          "metadata": {},
          "execution_count": 9
        }
      ],
      "source": [
        "df_call_35000 = pd.read_csv('/OPTIDX_BANKNIFTY_CE_28-May-2021_TO_24-Jun-2021_1.csv')\n",
        "df_call_35000.rename(columns = {'Premium Turnover in Lacs':'Premium'}, inplace = True)\n",
        "df_call_35000.rename(columns = {'Underlying Value':'Underlying_Value'}, inplace = True)\n",
        "df_call_35000.head()"
      ]
    },
    {
      "cell_type": "code",
      "execution_count": 10,
      "metadata": {
        "id": "uEVaLCxLE2dA",
        "colab": {
          "base_uri": "https://localhost:8080/",
          "height": 354
        },
        "outputId": "cf9b03a6-ea43-4084-a7da-5f69ad45bb60"
      },
      "outputs": [
        {
          "output_type": "execute_result",
          "data": {
            "text/plain": [
              "      Symbol         Date       Expiry Option Type  Strike Price    Open  \\\n",
              "0  BANKNIFTY  28-May-2021  24-Jun-2021          PE         35000  940.00   \n",
              "1  BANKNIFTY  31-May-2021  24-Jun-2021          PE         35000  886.00   \n",
              "2  BANKNIFTY  01-Jun-2021  24-Jun-2021          PE         35000  682.35   \n",
              "3  BANKNIFTY  02-Jun-2021  24-Jun-2021          PE         35000  747.50   \n",
              "4  BANKNIFTY  03-Jun-2021  24-Jun-2021          PE         35000  486.50   \n",
              "\n",
              "     High     Low   Close    LTP  Settle Price  No. of contracts  \\\n",
              "0  984.85  820.20  907.15  856.0        907.15             30957   \n",
              "1  975.50  690.45  706.40  713.9        706.40             22393   \n",
              "2  795.25  605.40  701.25  697.0        701.25             22207   \n",
              "3  799.95  581.80  601.55  587.7        601.55             18375   \n",
              "4  564.00  447.15  484.85  489.0        484.85             19913   \n",
              "\n",
              "   Turnover in Lacs  Premium  Open Int  Change in OI Underlying Value  \n",
              "0         277944.81  7071.06    217275         -3850         35141.45  \n",
              "1         200373.31  4434.56    215875         -1400                -  \n",
              "2         198214.51  3903.26    245775         29900                -  \n",
              "3         164002.20  3220.95    235300        -10475                -  \n",
              "4         176748.22  2509.47    217500        -17800                -  "
            ],
            "text/html": [
              "\n",
              "  <div id=\"df-46d6c8a3-e721-4e19-bcc7-c38ad8d1c50b\">\n",
              "    <div class=\"colab-df-container\">\n",
              "      <div>\n",
              "<style scoped>\n",
              "    .dataframe tbody tr th:only-of-type {\n",
              "        vertical-align: middle;\n",
              "    }\n",
              "\n",
              "    .dataframe tbody tr th {\n",
              "        vertical-align: top;\n",
              "    }\n",
              "\n",
              "    .dataframe thead th {\n",
              "        text-align: right;\n",
              "    }\n",
              "</style>\n",
              "<table border=\"1\" class=\"dataframe\">\n",
              "  <thead>\n",
              "    <tr style=\"text-align: right;\">\n",
              "      <th></th>\n",
              "      <th>Symbol</th>\n",
              "      <th>Date</th>\n",
              "      <th>Expiry</th>\n",
              "      <th>Option Type</th>\n",
              "      <th>Strike Price</th>\n",
              "      <th>Open</th>\n",
              "      <th>High</th>\n",
              "      <th>Low</th>\n",
              "      <th>Close</th>\n",
              "      <th>LTP</th>\n",
              "      <th>Settle Price</th>\n",
              "      <th>No. of contracts</th>\n",
              "      <th>Turnover in Lacs</th>\n",
              "      <th>Premium</th>\n",
              "      <th>Open Int</th>\n",
              "      <th>Change in OI</th>\n",
              "      <th>Underlying Value</th>\n",
              "    </tr>\n",
              "  </thead>\n",
              "  <tbody>\n",
              "    <tr>\n",
              "      <th>0</th>\n",
              "      <td>BANKNIFTY</td>\n",
              "      <td>28-May-2021</td>\n",
              "      <td>24-Jun-2021</td>\n",
              "      <td>PE</td>\n",
              "      <td>35000</td>\n",
              "      <td>940.00</td>\n",
              "      <td>984.85</td>\n",
              "      <td>820.20</td>\n",
              "      <td>907.15</td>\n",
              "      <td>856.0</td>\n",
              "      <td>907.15</td>\n",
              "      <td>30957</td>\n",
              "      <td>277944.81</td>\n",
              "      <td>7071.06</td>\n",
              "      <td>217275</td>\n",
              "      <td>-3850</td>\n",
              "      <td>35141.45</td>\n",
              "    </tr>\n",
              "    <tr>\n",
              "      <th>1</th>\n",
              "      <td>BANKNIFTY</td>\n",
              "      <td>31-May-2021</td>\n",
              "      <td>24-Jun-2021</td>\n",
              "      <td>PE</td>\n",
              "      <td>35000</td>\n",
              "      <td>886.00</td>\n",
              "      <td>975.50</td>\n",
              "      <td>690.45</td>\n",
              "      <td>706.40</td>\n",
              "      <td>713.9</td>\n",
              "      <td>706.40</td>\n",
              "      <td>22393</td>\n",
              "      <td>200373.31</td>\n",
              "      <td>4434.56</td>\n",
              "      <td>215875</td>\n",
              "      <td>-1400</td>\n",
              "      <td>-</td>\n",
              "    </tr>\n",
              "    <tr>\n",
              "      <th>2</th>\n",
              "      <td>BANKNIFTY</td>\n",
              "      <td>01-Jun-2021</td>\n",
              "      <td>24-Jun-2021</td>\n",
              "      <td>PE</td>\n",
              "      <td>35000</td>\n",
              "      <td>682.35</td>\n",
              "      <td>795.25</td>\n",
              "      <td>605.40</td>\n",
              "      <td>701.25</td>\n",
              "      <td>697.0</td>\n",
              "      <td>701.25</td>\n",
              "      <td>22207</td>\n",
              "      <td>198214.51</td>\n",
              "      <td>3903.26</td>\n",
              "      <td>245775</td>\n",
              "      <td>29900</td>\n",
              "      <td>-</td>\n",
              "    </tr>\n",
              "    <tr>\n",
              "      <th>3</th>\n",
              "      <td>BANKNIFTY</td>\n",
              "      <td>02-Jun-2021</td>\n",
              "      <td>24-Jun-2021</td>\n",
              "      <td>PE</td>\n",
              "      <td>35000</td>\n",
              "      <td>747.50</td>\n",
              "      <td>799.95</td>\n",
              "      <td>581.80</td>\n",
              "      <td>601.55</td>\n",
              "      <td>587.7</td>\n",
              "      <td>601.55</td>\n",
              "      <td>18375</td>\n",
              "      <td>164002.20</td>\n",
              "      <td>3220.95</td>\n",
              "      <td>235300</td>\n",
              "      <td>-10475</td>\n",
              "      <td>-</td>\n",
              "    </tr>\n",
              "    <tr>\n",
              "      <th>4</th>\n",
              "      <td>BANKNIFTY</td>\n",
              "      <td>03-Jun-2021</td>\n",
              "      <td>24-Jun-2021</td>\n",
              "      <td>PE</td>\n",
              "      <td>35000</td>\n",
              "      <td>486.50</td>\n",
              "      <td>564.00</td>\n",
              "      <td>447.15</td>\n",
              "      <td>484.85</td>\n",
              "      <td>489.0</td>\n",
              "      <td>484.85</td>\n",
              "      <td>19913</td>\n",
              "      <td>176748.22</td>\n",
              "      <td>2509.47</td>\n",
              "      <td>217500</td>\n",
              "      <td>-17800</td>\n",
              "      <td>-</td>\n",
              "    </tr>\n",
              "  </tbody>\n",
              "</table>\n",
              "</div>\n",
              "      <button class=\"colab-df-convert\" onclick=\"convertToInteractive('df-46d6c8a3-e721-4e19-bcc7-c38ad8d1c50b')\"\n",
              "              title=\"Convert this dataframe to an interactive table.\"\n",
              "              style=\"display:none;\">\n",
              "        \n",
              "  <svg xmlns=\"http://www.w3.org/2000/svg\" height=\"24px\"viewBox=\"0 0 24 24\"\n",
              "       width=\"24px\">\n",
              "    <path d=\"M0 0h24v24H0V0z\" fill=\"none\"/>\n",
              "    <path d=\"M18.56 5.44l.94 2.06.94-2.06 2.06-.94-2.06-.94-.94-2.06-.94 2.06-2.06.94zm-11 1L8.5 8.5l.94-2.06 2.06-.94-2.06-.94L8.5 2.5l-.94 2.06-2.06.94zm10 10l.94 2.06.94-2.06 2.06-.94-2.06-.94-.94-2.06-.94 2.06-2.06.94z\"/><path d=\"M17.41 7.96l-1.37-1.37c-.4-.4-.92-.59-1.43-.59-.52 0-1.04.2-1.43.59L10.3 9.45l-7.72 7.72c-.78.78-.78 2.05 0 2.83L4 21.41c.39.39.9.59 1.41.59.51 0 1.02-.2 1.41-.59l7.78-7.78 2.81-2.81c.8-.78.8-2.07 0-2.86zM5.41 20L4 18.59l7.72-7.72 1.47 1.35L5.41 20z\"/>\n",
              "  </svg>\n",
              "      </button>\n",
              "      \n",
              "  <style>\n",
              "    .colab-df-container {\n",
              "      display:flex;\n",
              "      flex-wrap:wrap;\n",
              "      gap: 12px;\n",
              "    }\n",
              "\n",
              "    .colab-df-convert {\n",
              "      background-color: #E8F0FE;\n",
              "      border: none;\n",
              "      border-radius: 50%;\n",
              "      cursor: pointer;\n",
              "      display: none;\n",
              "      fill: #1967D2;\n",
              "      height: 32px;\n",
              "      padding: 0 0 0 0;\n",
              "      width: 32px;\n",
              "    }\n",
              "\n",
              "    .colab-df-convert:hover {\n",
              "      background-color: #E2EBFA;\n",
              "      box-shadow: 0px 1px 2px rgba(60, 64, 67, 0.3), 0px 1px 3px 1px rgba(60, 64, 67, 0.15);\n",
              "      fill: #174EA6;\n",
              "    }\n",
              "\n",
              "    [theme=dark] .colab-df-convert {\n",
              "      background-color: #3B4455;\n",
              "      fill: #D2E3FC;\n",
              "    }\n",
              "\n",
              "    [theme=dark] .colab-df-convert:hover {\n",
              "      background-color: #434B5C;\n",
              "      box-shadow: 0px 1px 3px 1px rgba(0, 0, 0, 0.15);\n",
              "      filter: drop-shadow(0px 1px 2px rgba(0, 0, 0, 0.3));\n",
              "      fill: #FFFFFF;\n",
              "    }\n",
              "  </style>\n",
              "\n",
              "      <script>\n",
              "        const buttonEl =\n",
              "          document.querySelector('#df-46d6c8a3-e721-4e19-bcc7-c38ad8d1c50b button.colab-df-convert');\n",
              "        buttonEl.style.display =\n",
              "          google.colab.kernel.accessAllowed ? 'block' : 'none';\n",
              "\n",
              "        async function convertToInteractive(key) {\n",
              "          const element = document.querySelector('#df-46d6c8a3-e721-4e19-bcc7-c38ad8d1c50b');\n",
              "          const dataTable =\n",
              "            await google.colab.kernel.invokeFunction('convertToInteractive',\n",
              "                                                     [key], {});\n",
              "          if (!dataTable) return;\n",
              "\n",
              "          const docLinkHtml = 'Like what you see? Visit the ' +\n",
              "            '<a target=\"_blank\" href=https://colab.research.google.com/notebooks/data_table.ipynb>data table notebook</a>'\n",
              "            + ' to learn more about interactive tables.';\n",
              "          element.innerHTML = '';\n",
              "          dataTable['output_type'] = 'display_data';\n",
              "          await google.colab.output.renderOutput(dataTable, element);\n",
              "          const docLink = document.createElement('div');\n",
              "          docLink.innerHTML = docLinkHtml;\n",
              "          element.appendChild(docLink);\n",
              "        }\n",
              "      </script>\n",
              "    </div>\n",
              "  </div>\n",
              "  "
            ]
          },
          "metadata": {},
          "execution_count": 10
        }
      ],
      "source": [
        "df_put_35000 = pd.read_csv('/OPTIDX_BANKNIFTY_PE_28-May-2021_TO_24-Jun-2021.csv')\n",
        "df_put_35000.rename(columns = {'Premium Turnover in Lacs':'Premium'}, inplace = True)\n",
        "\n",
        "df_put_35000.head()"
      ]
    },
    {
      "cell_type": "markdown",
      "metadata": {
        "id": "KnyzjqQYE2dB"
      },
      "source": [
        "### Initialising everything required to calculate delta"
      ]
    },
    {
      "cell_type": "code",
      "execution_count": 20,
      "metadata": {
        "id": "gIqSbSG_E2dB"
      },
      "outputs": [],
      "source": [
        "#Assume we are starting the strategy at the opening time of 28th May\n",
        "S =  df_call_35000.Underlying_Value[0]  #price of the underlying\n",
        "\n",
        "K = 35000   #strike price\n",
        "date1= df_call_35000.Date[0]\n",
        "date2= df_call_35000.Expiry[0]\n",
        "t = pd.to_datetime(date2)- pd.to_datetime(date1)\n",
        "r=0.06\n",
        "delta_to_maintain = 0.3\n",
        "vol=10 \n",
        "sigma =vol\n"
      ]
    },
    {
      "cell_type": "markdown",
      "metadata": {
        "id": "_cBwEe9WE2dB"
      },
      "source": [
        "### Initial selling"
      ]
    },
    {
      "cell_type": "code",
      "execution_count": 21,
      "metadata": {
        "id": "-B-47F_3E2dB",
        "colab": {
          "base_uri": "https://localhost:8080/"
        },
        "outputId": "d6e7ff04-59e6-4ccb-cd67-f47d38a30fef"
      },
      "outputs": [
        {
          "output_type": "execute_result",
          "data": {
            "text/plain": [
              "940.0"
            ]
          },
          "metadata": {},
          "execution_count": 21
        }
      ],
      "source": [
        "no_of_lots_put = 10      #number of lots of put sold\n",
        "sell_avg_put = df_put_35000['Open'][0]   #_______   selling average of seeling those lots\n",
        "lot_size = 25\n",
        "delta =1*no_of_lots_put*lot_size   #  ______  total delta after selling 250 quantities of put\n",
        "sell_avg_put"
      ]
    },
    {
      "cell_type": "code",
      "execution_count": 22,
      "metadata": {
        "id": "FmUawU-OE2dC",
        "colab": {
          "base_uri": "https://localhost:8080/"
        },
        "outputId": "b3f9fe37-27f1-4c65-dff4-4461fec6a907"
      },
      "outputs": [
        {
          "output_type": "execute_result",
          "data": {
            "text/plain": [
              "250"
            ]
          },
          "metadata": {},
          "execution_count": 22
        }
      ],
      "source": [
        "delta"
      ]
    },
    {
      "cell_type": "code",
      "execution_count": 23,
      "metadata": {
        "id": "9lSbqtmmE2dC",
        "colab": {
          "base_uri": "https://localhost:8080/"
        },
        "outputId": "0cd55192-c861-4f4d-c2ad-971e2b4e3e13"
      },
      "outputs": [
        {
          "output_type": "execute_result",
          "data": {
            "text/plain": [
              "2500"
            ]
          },
          "metadata": {},
          "execution_count": 23
        }
      ],
      "source": [
        "delta_per_lot_call = delta*no_of_lots_put #_______  #delta per lot of call,i.e, delta of 25 quantities\n",
        "delta_per_lot_call"
      ]
    },
    {
      "cell_type": "code",
      "execution_count": 24,
      "metadata": {
        "id": "SSuVuWEME2dC",
        "colab": {
          "base_uri": "https://localhost:8080/"
        },
        "outputId": "99aebdf2-5acf-4575-b89a-dfba4fae6191"
      },
      "outputs": [
        {
          "output_type": "execute_result",
          "data": {
            "text/plain": [
              "10.0"
            ]
          },
          "metadata": {},
          "execution_count": 24
        }
      ],
      "source": [
        "number_of_lots_call = delta_per_lot_call/delta    #number of lots of call to be sold\n",
        "number_of_lots_call"
      ]
    },
    {
      "cell_type": "code",
      "execution_count": 18,
      "metadata": {
        "id": "DuDuo2pYE2dC",
        "colab": {
          "base_uri": "https://localhost:8080/"
        },
        "outputId": "5707c940-fec4-46d8-d22c-f3583ce31002"
      },
      "outputs": [
        {
          "output_type": "execute_result",
          "data": {
            "text/plain": [
              "1394.65"
            ]
          },
          "metadata": {},
          "execution_count": 18
        }
      ],
      "source": [
        "sell_avg_call = df_call_35000['Open'][0]   #selling average of that call options sold\n",
        "sell_avg_call"
      ]
    },
    {
      "cell_type": "code",
      "source": [
        "#length of the data\n",
        "len(df_put_35000)"
      ],
      "metadata": {
        "colab": {
          "base_uri": "https://localhost:8080/"
        },
        "id": "CNbKJWewfh6y",
        "outputId": "5d3d6e52-3d12-4c9f-b7de-488c2874659b"
      },
      "execution_count": 26,
      "outputs": [
        {
          "output_type": "execute_result",
          "data": {
            "text/plain": [
              "20"
            ]
          },
          "metadata": {},
          "execution_count": 26
        }
      ]
    },
    {
      "cell_type": "code",
      "execution_count": null,
      "metadata": {
        "id": "Gb11fBeEE2dD"
      },
      "outputs": [],
      "source": [
        "#Before delta management ans few questions:\n",
        "\n",
        "#Q1. If market moves up, what would happen to delta of put options? (increase/decrease)\n",
        "#Ans : decrease \n",
        "\n",
        "#Q2. If market moves up, what would happen to delta of call options? (increase/decrease)\n",
        "#Ans : increase\n",
        "\n",
        "#Q3. What would be your ideal strategy in terms of buying/selling call options if market moves up to maintain a delta of 0.\n",
        "#Ans :buy more options at today price\n",
        "\n",
        "'''\n",
        "Bonus Question: Assume that you have set a limit to selling of your quantities and you have reached that limit of yours.\n",
        "Now the market went up. You have to manage your delta such that the final quantity sold by you remains the same.\n",
        "What would you do?\n",
        "Hint : Think about changing the strikes of options\n",
        "\n",
        "Ans : ______\n",
        "'''"
      ]
    },
    {
      "cell_type": "markdown",
      "metadata": {
        "id": "Z57tZ-lJE2dD"
      },
      "source": [
        "### Delta Management"
      ]
    },
    {
      "cell_type": "code",
      "execution_count": 28,
      "metadata": {
        "id": "GoXJgOfTE2dD"
      },
      "outputs": [],
      "source": [
        "number_of_lots_call =  number_of_lots_call  #number of call lots to be sold(same as above)\n",
        "sell_avg_call = sell_avg_call  #selling average(same as above)\n",
        "profit = []\n",
        "\n",
        "#Write the code for delta management\n",
        "\n",
        "for i in range(len(df_put_35000)-1):\n",
        "    delta_per_lot_call = df_call_35000.Premium - df_call_35000.Close #Calculate delta per lot at the next closing day\n",
        "    current_number_of_lots_call = delta_per_lot_call/delta  #number of lots required to sell\n",
        "    no_of_lots_added = number_of_lots_call  -  current_number_of_lots_call#number of lots added/subtracted for selling\n",
        "    sell_avg_call = df_call_35000['Open'][0]  #new selling avg of call\n",
        "    number_of_lots_call = number_of_lots_call+no_of_lots_added #update number of lots of calls sold\n",
        "    profit.append((df_put_35000['Close'][i]-sell_avg_call)*no_of_lots_put*10 + (sell_avg_call-df_call_35000['Close'][i])*10*number_of_lots_call)  #unrealised profit \n",
        "    "
      ]
    },
    {
      "cell_type": "markdown",
      "source": [],
      "metadata": {
        "id": "Uvg5IgP1iNoD"
      }
    },
    {
      "cell_type": "code",
      "execution_count": null,
      "metadata": {
        "id": "UPgdVOdhE2dD"
      },
      "outputs": [],
      "source": [
        "profit.append(_____)  #profit at the expiry as at expiry delta is not done and therefore cannot be calculated in the above loop"
      ]
    },
    {
      "cell_type": "code",
      "execution_count": 29,
      "metadata": {
        "id": "zT3x4LaVE2dE",
        "colab": {
          "base_uri": "https://localhost:8080/"
        },
        "outputId": "c7d38667-fe33-4866-f9c3-f56b29d7b916"
      },
      "outputs": [
        {
          "output_type": "execute_result",
          "data": {
            "text/plain": [
              "[0     -45553.87476\n",
              " 1     -34741.98744\n",
              " 2     -38185.71260\n",
              " 3     -27901.11604\n",
              " 4     -20056.95064\n",
              " 5     -26054.76532\n",
              " 6     -22787.06936\n",
              " 7     -41923.47172\n",
              " 8     -61991.66980\n",
              " 9     -56286.58516\n",
              " 10    -48032.33692\n",
              " 11    -64305.54828\n",
              " 12    -63977.90216\n",
              " 13    -82748.62740\n",
              " 14   -119674.70008\n",
              " 15   -335377.54952\n",
              " 16   -325361.99512\n",
              " 17   -900476.48408\n",
              " 18   -423122.02076\n",
              " 19   -275711.98132\n",
              " dtype: float64, 0    -8.152318e+04\n",
              " 1    -6.605759e+04\n",
              " 2    -7.098358e+04\n",
              " 3    -5.627223e+04\n",
              " 4    -4.505174e+04\n",
              " 5    -5.363116e+04\n",
              " 6    -4.895697e+04\n",
              " 7    -7.633016e+04\n",
              " 8    -1.050362e+05\n",
              " 9    -9.687552e+04\n",
              " 10   -8.506844e+04\n",
              " 11   -1.083460e+05\n",
              " 12   -1.078774e+05\n",
              " 13   -1.347275e+05\n",
              " 14   -1.875475e+05\n",
              " 15   -4.960943e+05\n",
              " 16   -4.817678e+05\n",
              " 17   -1.304426e+06\n",
              " 18   -6.216062e+05\n",
              " 19   -4.107471e+05\n",
              " dtype: float64, 0    -1.835001e+05\n",
              " 1    -8.336925e+04\n",
              " 2    -1.152622e+05\n",
              " 3    -2.001470e+04\n",
              " 4     5.263154e+04\n",
              " 5    -2.915309e+03\n",
              " 6     2.734742e+04\n",
              " 7    -1.498783e+05\n",
              " 8    -3.357335e+05\n",
              " 9    -2.828977e+05\n",
              " 10   -2.064536e+05\n",
              " 11   -3.571628e+05\n",
              " 12   -3.541284e+05\n",
              " 13   -5.279675e+05\n",
              " 14   -8.699465e+05\n",
              " 15   -2.867610e+06\n",
              " 16   -2.774854e+06\n",
              " 17   -8.101094e+06\n",
              " 18   -3.680227e+06\n",
              " 19   -2.315036e+06\n",
              " dtype: float64, 0    -3.819740e+05\n",
              " 1    -1.432289e+05\n",
              " 2    -2.192723e+05\n",
              " 3     7.829276e+03\n",
              " 4     1.810420e+05\n",
              " 5     4.859988e+04\n",
              " 6     1.207562e+05\n",
              " 7    -3.018085e+05\n",
              " 8    -7.449489e+05\n",
              " 9    -6.189708e+05\n",
              " 10   -4.367028e+05\n",
              " 11   -7.960433e+05\n",
              " 12   -7.888083e+05\n",
              " 13   -1.203298e+06\n",
              " 14   -2.018690e+06\n",
              " 15   -6.781780e+06\n",
              " 16   -6.560619e+06\n",
              " 17   -1.926014e+07\n",
              " 18   -8.719329e+06\n",
              " 19   -5.464262e+06\n",
              " dtype: float64, 0    -4.078946e+05\n",
              " 1    -1.687794e+05\n",
              " 2    -2.449407e+05\n",
              " 3    -1.748696e+04\n",
              " 4     1.559943e+05\n",
              " 5     2.334686e+04\n",
              " 6     9.561508e+04\n",
              " 7    -3.276048e+05\n",
              " 8    -7.714322e+05\n",
              " 9    -6.452588e+05\n",
              " 10   -4.627082e+05\n",
              " 11   -8.226059e+05\n",
              " 12   -8.153596e+05\n",
              " 13   -1.230492e+06\n",
              " 14   -2.047148e+06\n",
              " 15   -6.817623e+06\n",
              " 16   -6.596119e+06\n",
              " 17   -1.931533e+07\n",
              " 18   -8.758176e+06\n",
              " 19   -5.498062e+06\n",
              " dtype: float64, 0    -1.831841e+06\n",
              " 1    -5.402533e+05\n",
              " 2    -9.516406e+05\n",
              " 3     2.769570e+05\n",
              " 4     1.214021e+06\n",
              " 5     4.975220e+05\n",
              " 6     8.878808e+05\n",
              " 7    -1.398153e+06\n",
              " 8    -3.795499e+06\n",
              " 9    -3.113970e+06\n",
              " 10   -2.127918e+06\n",
              " 11   -4.071915e+06\n",
              " 12   -4.032775e+06\n",
              " 13   -6.275125e+06\n",
              " 14   -1.068631e+07\n",
              " 15   -3.645417e+07\n",
              " 16   -3.525771e+07\n",
              " 17   -1.039609e+08\n",
              " 18   -4.693612e+07\n",
              " 19   -2.932652e+07\n",
              " dtype: float64, 0    -3.383983e+06\n",
              " 1    -9.759234e+05\n",
              " 2    -1.742921e+06\n",
              " 3     5.476984e+05\n",
              " 4     2.294777e+06\n",
              " 5     9.589239e+05\n",
              " 6     1.686716e+06\n",
              " 7    -2.575408e+06\n",
              " 8    -7.045064e+06\n",
              " 9    -5.774409e+06\n",
              " 10   -3.935995e+06\n",
              " 11   -7.560419e+06\n",
              " 12   -7.487444e+06\n",
              " 13   -1.166812e+07\n",
              " 14   -1.989242e+07\n",
              " 15   -6.793449e+07\n",
              " 16   -6.570379e+07\n",
              " 17   -1.937952e+08\n",
              " 18   -8.747723e+07\n",
              " 19   -5.464557e+07\n",
              " dtype: float64, 0    -1.260537e+07\n",
              " 1    -3.486310e+06\n",
              " 2    -6.390848e+06\n",
              " 3     2.283479e+06\n",
              " 4     8.899476e+06\n",
              " 5     3.840745e+06\n",
              " 6     6.596815e+06\n",
              " 7    -9.543383e+06\n",
              " 8    -2.646948e+07\n",
              " 9    -2.165765e+07\n",
              " 10   -1.469578e+07\n",
              " 11   -2.842108e+07\n",
              " 12   -2.814473e+07\n",
              " 13   -4.397650e+07\n",
              " 14   -7.512103e+07\n",
              " 15   -2.570511e+08\n",
              " 16   -2.486037e+08\n",
              " 17   -7.336719e+08\n",
              " 18   -3.310573e+08\n",
              " 19   -2.067274e+08\n",
              " dtype: float64, 0    -3.332815e+07\n",
              " 1    -9.161780e+06\n",
              " 2    -1.685908e+07\n",
              " 3     6.128707e+06\n",
              " 4     2.366172e+07\n",
              " 5     1.025561e+07\n",
              " 6     1.755945e+07\n",
              " 7    -2.521359e+07\n",
              " 8    -7.006936e+07\n",
              " 9    -5.731754e+07\n",
              " 10   -3.886792e+07\n",
              " 11   -7.524126e+07\n",
              " 12   -7.450892e+07\n",
              " 13   -1.164646e+08\n",
              " 14   -1.990005e+08\n",
              " 15   -6.811323e+08\n",
              " 16   -6.587459e+08\n",
              " 17   -1.944223e+09\n",
              " 18   -8.772558e+08\n",
              " 19   -5.477698e+08\n",
              " dtype: float64, 0    -5.388878e+07\n",
              " 1    -1.484091e+07\n",
              " 2    -2.727816e+07\n",
              " 3     9.865362e+06\n",
              " 4     3.819510e+07\n",
              " 5     1.653358e+07\n",
              " 6     2.833509e+07\n",
              " 7    -4.077734e+07\n",
              " 8    -1.132550e+08\n",
              " 9    -9.265070e+07\n",
              " 10   -6.283992e+07\n",
              " 11   -1.216117e+08\n",
              " 12   -1.204284e+08\n",
              " 13   -1.882202e+08\n",
              " 14   -3.215812e+08\n",
              " 15   -1.100607e+09\n",
              " 16   -1.064435e+09\n",
              " 17   -3.141500e+09\n",
              " 18   -1.417502e+09\n",
              " 19   -8.851205e+08\n",
              " dtype: float64, 0    -1.245344e+08\n",
              " 1    -3.426518e+07\n",
              " 2    -6.301708e+07\n",
              " 3     2.284973e+07\n",
              " 4     8.834122e+07\n",
              " 5     3.826504e+07\n",
              " 6     6.554727e+07\n",
              " 7    -9.422389e+07\n",
              " 8    -2.617747e+08\n",
              " 9    -2.141425e+08\n",
              " 10   -1.452272e+08\n",
              " 11   -2.810934e+08\n",
              " 12   -2.783579e+08\n",
              " 13   -4.350760e+08\n",
              " 14   -7.433743e+08\n",
              " 15   -2.544292e+09\n",
              " 16   -2.460672e+09\n",
              " 17   -7.262343e+09\n",
              " 18   -3.276877e+09\n",
              " 19   -2.046140e+09\n",
              " dtype: float64, 0    -2.878322e+08\n",
              " 1    -7.917160e+07\n",
              " 2    -1.456327e+08\n",
              " 3     5.285164e+07\n",
              " 4     2.042376e+08\n",
              " 5     8.848471e+07\n",
              " 6     1.515486e+08\n",
              " 7    -2.177684e+08\n",
              " 8    -6.050683e+08\n",
              " 9    -4.949648e+08\n",
              " 10   -3.356645e+08\n",
              " 11   -6.497242e+08\n",
              " 12   -6.434009e+08\n",
              " 13   -1.005661e+09\n",
              " 14   -1.718304e+09\n",
              " 15   -5.881193e+09\n",
              " 16   -5.687901e+09\n",
              " 17   -1.678714e+10\n",
              " 18   -7.574590e+09\n",
              " 19   -4.729696e+09\n",
              " dtype: float64, 0    -4.970016e+08\n",
              " 1    -1.367216e+08\n",
              " 2    -2.514754e+08\n",
              " 3     9.123390e+07\n",
              " 4     3.526217e+08\n",
              " 5     1.527591e+08\n",
              " 6     2.616471e+08\n",
              " 7    -3.760272e+08\n",
              " 8    -1.044751e+09\n",
              " 9    -8.546432e+08\n",
              " 10   -5.795903e+08\n",
              " 11   -1.121856e+09\n",
              " 12   -1.110938e+09\n",
              " 13   -1.736427e+09\n",
              " 14   -2.966899e+09\n",
              " 15   -1.015467e+10\n",
              " 16   -9.820930e+09\n",
              " 17   -2.898523e+10\n",
              " 18   -1.307855e+10\n",
              " 19   -8.166464e+09\n",
              " dtype: float64, 0    -1.181003e+09\n",
              " 1    -3.248367e+08\n",
              " 2    -5.975367e+08\n",
              " 3     2.168750e+08\n",
              " 4     8.380349e+08\n",
              " 5     3.630829e+08\n",
              " 6     6.218436e+08\n",
              " 7    -8.935206e+08\n",
              " 8    -2.482671e+09\n",
              " 9    -2.030900e+09\n",
              " 10   -1.377266e+09\n",
              " 11   -2.665902e+09\n",
              " 12   -2.639956e+09\n",
              " 13   -4.126363e+09\n",
              " 14   -7.050447e+09\n",
              " 15   -2.413142e+10\n",
              " 16   -2.333831e+10\n",
              " 17   -6.888020e+10\n",
              " 18   -3.107969e+10\n",
              " 19   -1.940665e+10\n",
              " dtype: float64, 0    -3.049312e+09\n",
              " 1    -8.386752e+08\n",
              " 2    -1.542791e+09\n",
              " 3     5.600336e+08\n",
              " 4     2.163880e+09\n",
              " 5     9.375451e+08\n",
              " 6     1.605670e+09\n",
              " 7    -2.307027e+09\n",
              " 8    -6.410242e+09\n",
              " 9    -5.243760e+09\n",
              " 10   -3.556067e+09\n",
              " 11   -6.883346e+09\n",
              " 12   -6.816354e+09\n",
              " 13   -1.065428e+10\n",
              " 14   -1.820432e+10\n",
              " 15   -6.230769e+10\n",
              " 16   -6.025987e+10\n",
              " 17   -1.778498e+11\n",
              " 18   -8.024823e+10\n",
              " 19   -5.010825e+10\n",
              " dtype: float64, 0    -6.558286e+09\n",
              " 1    -1.803794e+09\n",
              " 2    -3.318161e+09\n",
              " 3     1.204456e+09\n",
              " 4     4.653902e+09\n",
              " 5     2.016383e+09\n",
              " 6     3.453342e+09\n",
              " 7    -4.961829e+09\n",
              " 8    -1.378675e+10\n",
              " 9    -1.127796e+10\n",
              " 10   -7.648182e+09\n",
              " 11   -1.480427e+10\n",
              " 12   -1.466019e+10\n",
              " 13   -2.291456e+10\n",
              " 14   -3.915268e+10\n",
              " 15   -1.340073e+11\n",
              " 16   -1.296030e+11\n",
              " 17   -3.825077e+11\n",
              " 18   -1.725926e+11\n",
              " 19   -1.077696e+11\n",
              " dtype: float64, 0    -1.242216e+10\n",
              " 1    -3.416646e+09\n",
              " 2    -6.285017e+09\n",
              " 3     2.281300e+09\n",
              " 4     8.814916e+09\n",
              " 5     3.819175e+09\n",
              " 6     6.540927e+09\n",
              " 7    -9.398298e+09\n",
              " 8    -2.611364e+10\n",
              " 9    -2.136172e+10\n",
              " 10   -1.448654e+10\n",
              " 11   -2.804093e+10\n",
              " 12   -2.776803e+10\n",
              " 13   -4.340267e+10\n",
              " 14   -7.415939e+10\n",
              " 15   -2.538241e+11\n",
              " 16   -2.454819e+11\n",
              " 17   -7.245102e+11\n",
              " 18   -3.269088e+11\n",
              " 19   -2.041270e+11\n",
              " dtype: float64, 0    -2.683373e+10\n",
              " 1    -7.380470e+09\n",
              " 2    -1.357658e+10\n",
              " 3     4.927952e+09\n",
              " 4     1.904155e+10\n",
              " 5     8.249994e+09\n",
              " 6     1.412939e+10\n",
              " 7    -2.030174e+10\n",
              " 8    -5.640940e+10\n",
              " 9    -4.614454e+10\n",
              " 10   -3.129310e+10\n",
              " 11   -6.057264e+10\n",
              " 12   -5.998312e+10\n",
              " 13   -9.375630e+10\n",
              " 14   -1.601955e+11\n",
              " 15   -5.482983e+11\n",
              " 16   -5.302778e+11\n",
              " 17   -1.565051e+12\n",
              " 18   -7.061723e+11\n",
              " 19   -4.409452e+11\n",
              " dtype: float64, 0    -5.819456e+10\n",
              " 1    -1.600610e+10\n",
              " 2    -2.944367e+10\n",
              " 3     1.068729e+10\n",
              " 4     4.129557e+10\n",
              " 5     1.789183e+10\n",
              " 6     3.064252e+10\n",
              " 7    -4.402857e+10\n",
              " 8    -1.223356e+11\n",
              " 9    -1.000741e+11\n",
              " 10   -6.786563e+10\n",
              " 11   -1.313644e+11\n",
              " 12   -1.300859e+11\n",
              " 13   -2.033301e+11\n",
              " 14   -3.474173e+11\n",
              " 15   -1.189099e+12\n",
              " 16   -1.150018e+12\n",
              " 17   -3.394141e+12\n",
              " 18   -1.531482e+12\n",
              " 19   -9.562817e+11\n",
              " dtype: float64]"
            ]
          },
          "metadata": {},
          "execution_count": 29
        }
      ],
      "source": [
        "profit"
      ]
    },
    {
      "cell_type": "code",
      "execution_count": 32,
      "metadata": {
        "id": "fpFHCMC0E2dE",
        "colab": {
          "base_uri": "https://localhost:8080/",
          "height": 407
        },
        "outputId": "a741d248-9ce8-43ce-cf37-a37fa323bb2b"
      },
      "outputs": [
        {
          "output_type": "execute_result",
          "data": {
            "text/plain": [
              "<matplotlib.legend.Legend at 0x7effc48810d0>"
            ]
          },
          "metadata": {},
          "execution_count": 32
        },
        {
          "output_type": "display_data",
          "data": {
            "text/plain": [
              "<Figure size 432x288 with 1 Axes>"
            ],
            "image/png": "[encoded data removed]"
          },
          "metadata": {
            "needs_background": "light"
          }
        }
      ],
      "source": [
        "#Plot the profit graph\n",
        "plt.plot(profit[:20], label = 'strategy_profit')\n",
        "plt.plot((df_put_35000['Close']-df_put_35000['Open'][0])[:20]*250, label = 'futures_profit')\n",
        "plt.legend()"
      ]
    },
    {
      "cell_type": "markdown",
      "metadata": {
        "id": "uDQna3kzE2dE"
      },
      "source": [
        "See the results you get by selling calls and puts and just managing delta at end of day"
      ]
    }
  ]
}