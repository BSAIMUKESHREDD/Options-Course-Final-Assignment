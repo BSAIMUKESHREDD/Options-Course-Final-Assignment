{
  "nbformat": 4,
  "nbformat_minor": 0,
  "metadata": {
    "colab": {
      "provenance": [],
      "include_colab_link": true
    },
    "kernelspec": {
      "name": "python3",
      "display_name": "Python 3"
    },
    "language_info": {
      "name": "python"
    }
  },
  "cells": [
    {
      "cell_type": "markdown",
      "metadata": {
        "id": "view-in-github",
        "colab_type": "text"
      },
      "source": [
        "<a href=\"https://colab.research.google.com/github/BSAIMUKESHREDD/Options-Course-Final-Assignment/blob/main/Short%20Strangle/Short_Strangle_with_Delta_Hedging.ipynb\" target=\"_parent\"><img src=\"https://colab.research.google.com/assets/colab-badge.svg\" alt=\"Open In Colab\"/></a>"
      ]
    },
    {
      "cell_type": "markdown",
      "metadata": {
        "id": "ukc_blAAE2c_"
      },
      "source": [
        "### Short strangle with delta hedging"
      ]
    },
    {
      "cell_type": "markdown",
      "metadata": {
        "id": "SeiKmlfWE2c_"
      },
      "source": [
        "https://zerodha.com/varsity/chapter/the-long-short-strangle/"
      ]
    },
    {
      "cell_type": "markdown",
      "metadata": {
        "id": "Q-K2tx_4E2c_"
      },
      "source": [
        "Coming to the reality we can't predict market accurately and it may lead to loss.<br/>\n",
        "So in practice market neutral strategies are very helpful and can give decent returns with very less risk<br/>\n",
        "One such strategy is to sell put and call options such that the overall delta of our positions remains 0."
      ]
    },
    {
      "cell_type": "markdown",
      "metadata": {
        "id": "W9O-19OCE2dA"
      },
      "source": [
        "Try to code the above strategy and manage delta just like given in the previous strategy.<br/>\n",
        "You will only use 35000 puts and calls for this strategy.<br/>\n",
        "Initially sell 10 lots of puts and correspondingly sell x lots of calls such that the delta becomes 0.<br/>\n",
        "Then manage the delta accordingly by just selling or buying call options and not changing the number of put options sold.<br/>\n",
        "Also plot the profit graph on whole data and see the results!<br/>\n",
        "\n",
        "Hint: Do remember that unlike futures which has delta of 1 delta of 35000 puts options would change everytime."
      ]
    },
    {
      "cell_type": "markdown",
      "metadata": {
        "id": "0lWRZW5NE2cq"
      },
      "source": [
        "## Importing important libraries"
      ]
    },
    {
      "cell_type": "code",
      "execution_count": 1,
      "metadata": {
        "id": "7Lb_SRTGE2cs",
        "colab": {
          "base_uri": "https://localhost:8080/"
        },
        "outputId": "e8e1b6cc-31e9-4952-b4de-c15a440baa80"
      },
      "outputs": [
        {
          "output_type": "stream",
          "name": "stdout",
          "text": [
            "Looking in indexes: https://pypi.org/simple, https://us-python.pkg.dev/colab-wheels/public/simple/\n",
            "Collecting py_vollib\n",
            "  Downloading py_vollib-1.0.1.tar.gz (19 kB)\n",
            "  Preparing metadata (setup.py) ... \u001b[?25l\u001b[?25hdone\n",
            "Collecting py_lets_be_rational\n",
            "  Downloading py_lets_be_rational-1.0.1.tar.gz (18 kB)\n",
            "  Preparing metadata (setup.py) ... \u001b[?25l\u001b[?25hdone\n",
            "Collecting simplejson\n",
            "  Downloading simplejson-3.18.1-cp38-cp38-manylinux_2_5_x86_64.manylinux1_x86_64.manylinux_2_17_x86_64.manylinux2014_x86_64.whl (135 kB)\n",
            "\u001b[2K     \u001b[90m━━━━━━━━━━━━━━━━━━━━━━━━━━━━━━━━━━━━━━━\u001b[0m \u001b[32m135.5/135.5 KB\u001b[0m \u001b[31m5.1 MB/s\u001b[0m eta \u001b[36m0:00:00\u001b[0m\n",
            "\u001b[?25hRequirement already satisfied: numpy in /usr/local/lib/python3.8/dist-packages (from py_vollib) (1.21.6)\n",
            "Requirement already satisfied: pandas in /usr/local/lib/python3.8/dist-packages (from py_vollib) (1.3.5)\n",
            "Requirement already satisfied: scipy in /usr/local/lib/python3.8/dist-packages (from py_vollib) (1.7.3)\n",
            "Requirement already satisfied: python-dateutil>=2.7.3 in /usr/local/lib/python3.8/dist-packages (from pandas->py_vollib) (2.8.2)\n",
            "Requirement already satisfied: pytz>=2017.3 in /usr/local/lib/python3.8/dist-packages (from pandas->py_vollib) (2022.7)\n",
            "Requirement already satisfied: six>=1.5 in /usr/local/lib/python3.8/dist-packages (from python-dateutil>=2.7.3->pandas->py_vollib) (1.15.0)\n",
            "Building wheels for collected packages: py_vollib, py_lets_be_rational\n",
            "  Building wheel for py_vollib (setup.py) ... \u001b[?25l\u001b[?25hdone\n",
            "  Created wheel for py_vollib: filename=py_vollib-1.0.1-py3-none-any.whl size=62855 sha256=6c6598fe5f99361da6b0fc65b2c4e32f3171ce7f06e995346b69c6195dffeaa5\n",
            "  Stored in directory: /root/.cache/pip/wheels/38/8d/d9/a680031767bd6a3d734fc7c48a75767591795e47ac66ca143c\n",
            "  Building wheel for py_lets_be_rational (setup.py) ... \u001b[?25l\u001b[?25hdone\n",
            "  Created wheel for py_lets_be_rational: filename=py_lets_be_rational-1.0.1-py3-none-any.whl size=24470 sha256=54d9fb67b4fd23d2c2271de06fd86001628f2325bd6dca7805a4a48191c8c298\n",
            "  Stored in directory: /root/.cache/pip/wheels/e6/67/1e/93e41aebf34e4fd3cb02a865e9c782c9edaac5051f15a01d2e\n",
            "Successfully built py_vollib py_lets_be_rational\n",
            "Installing collected packages: simplejson, py_lets_be_rational, py_vollib\n",
            "Successfully installed py_lets_be_rational-1.0.1 py_vollib-1.0.1 simplejson-3.18.1\n"
          ]
        }
      ],
      "source": [
        "pip install py_vollib"
      ]
    },
    {
      "cell_type": "code",
      "source": [
        "pip install py yfinance"
      ],
      "metadata": {
        "colab": {
          "base_uri": "https://localhost:8080/"
        },
        "id": "V50oTQT6ZLus",
        "outputId": "b38fed2f-6f5b-4928-ea31-34d3b3d05e3d"
      },
      "execution_count": 3,
      "outputs": [
        {
          "output_type": "stream",
          "name": "stdout",
          "text": [
            "Looking in indexes: https://pypi.org/simple, https://us-python.pkg.dev/colab-wheels/public/simple/\n",
            "Requirement already satisfied: py in /usr/local/lib/python3.8/dist-packages (1.11.0)\n",
            "Collecting yfinance\n",
            "  Downloading yfinance-0.2.3-py2.py3-none-any.whl (50 kB)\n",
            "\u001b[2K     \u001b[90m━━━━━━━━━━━━━━━━━━━━━━━━━━━━━━━━━━━━━━━━\u001b[0m \u001b[32m50.4/50.4 KB\u001b[0m \u001b[31m3.7 MB/s\u001b[0m eta \u001b[36m0:00:00\u001b[0m\n",
            "\u001b[?25hCollecting cryptography>=3.3.2\n",
            "  Downloading cryptography-39.0.0-cp36-abi3-manylinux_2_24_x86_64.whl (4.1 MB)\n",
            "\u001b[2K     \u001b[90m━━━━━━━━━━━━━━━━━━━━━━━━━━━━━━━━━━━━━━━━\u001b[0m \u001b[32m4.1/4.1 MB\u001b[0m \u001b[31m44.6 MB/s\u001b[0m eta \u001b[36m0:00:00\u001b[0m\n",
            "\u001b[?25hRequirement already satisfied: lxml>=4.9.1 in /usr/local/lib/python3.8/dist-packages (from yfinance) (4.9.2)\n",
            "Collecting requests>=2.26\n",
            "  Downloading requests-2.28.1-py3-none-any.whl (62 kB)\n",
            "\u001b[2K     \u001b[90m━━━━━━━━━━━━━━━━━━━━━━━━━━━━━━━━━━━━━━━━\u001b[0m \u001b[32m62.8/62.8 KB\u001b[0m \u001b[31m6.7 MB/s\u001b[0m eta \u001b[36m0:00:00\u001b[0m\n",
            "\u001b[?25hRequirement already satisfied: multitasking>=0.0.7 in /usr/local/lib/python3.8/dist-packages (from yfinance) (0.0.11)\n",
            "Requirement already satisfied: pytz>=2022.5 in /usr/local/lib/python3.8/dist-packages (from yfinance) (2022.7)\n",
            "Collecting frozendict>=2.3.4\n",
            "  Downloading frozendict-2.3.4-cp38-cp38-manylinux_2_17_x86_64.manylinux2014_x86_64.whl (110 kB)\n",
            "\u001b[2K     \u001b[90m━━━━━━━━━━━━━━━━━━━━━━━━━━━━━━━━━━━━━━\u001b[0m \u001b[32m111.0/111.0 KB\u001b[0m \u001b[31m11.7 MB/s\u001b[0m eta \u001b[36m0:00:00\u001b[0m\n",
            "\u001b[?25hCollecting html5lib>=1.1\n",
            "  Downloading html5lib-1.1-py2.py3-none-any.whl (112 kB)\n",
            "\u001b[2K     \u001b[90m━━━━━━━━━━━━━━━━━━━━━━━━━━━━━━━━━━━━━━\u001b[0m \u001b[32m112.2/112.2 KB\u001b[0m \u001b[31m13.0 MB/s\u001b[0m eta \u001b[36m0:00:00\u001b[0m\n",
            "\u001b[?25hCollecting beautifulsoup4>=4.11.1\n",
            "  Downloading beautifulsoup4-4.11.1-py3-none-any.whl (128 kB)\n",
            "\u001b[2K     \u001b[90m━━━━━━━━━━━━━━━━━━━━━━━━━━━━━━━━━━━━━━\u001b[0m \u001b[32m128.2/128.2 KB\u001b[0m \u001b[31m15.4 MB/s\u001b[0m eta \u001b[36m0:00:00\u001b[0m\n",
            "\u001b[?25hRequirement already satisfied: pandas>=1.3.0 in /usr/local/lib/python3.8/dist-packages (from yfinance) (1.3.5)\n",
            "Requirement already satisfied: appdirs>=1.4.4 in /usr/local/lib/python3.8/dist-packages (from yfinance) (1.4.4)\n",
            "Requirement already satisfied: numpy>=1.16.5 in /usr/local/lib/python3.8/dist-packages (from yfinance) (1.21.6)\n",
            "Collecting soupsieve>1.2\n",
            "  Downloading soupsieve-2.3.2.post1-py3-none-any.whl (37 kB)\n",
            "Requirement already satisfied: cffi>=1.12 in /usr/local/lib/python3.8/dist-packages (from cryptography>=3.3.2->yfinance) (1.15.1)\n",
            "Requirement already satisfied: six>=1.9 in /usr/local/lib/python3.8/dist-packages (from html5lib>=1.1->yfinance) (1.15.0)\n",
            "Requirement already satisfied: webencodings in /usr/local/lib/python3.8/dist-packages (from html5lib>=1.1->yfinance) (0.5.1)\n",
            "Requirement already satisfied: python-dateutil>=2.7.3 in /usr/local/lib/python3.8/dist-packages (from pandas>=1.3.0->yfinance) (2.8.2)\n",
            "Requirement already satisfied: charset-normalizer<3,>=2 in /usr/local/lib/python3.8/dist-packages (from requests>=2.26->yfinance) (2.1.1)\n",
            "Requirement already satisfied: idna<4,>=2.5 in /usr/local/lib/python3.8/dist-packages (from requests>=2.26->yfinance) (2.10)\n",
            "Requirement already satisfied: urllib3<1.27,>=1.21.1 in /usr/local/lib/python3.8/dist-packages (from requests>=2.26->yfinance) (1.24.3)\n",
            "Requirement already satisfied: certifi>=2017.4.17 in /usr/local/lib/python3.8/dist-packages (from requests>=2.26->yfinance) (2022.12.7)\n",
            "Requirement already satisfied: pycparser in /usr/local/lib/python3.8/dist-packages (from cffi>=1.12->cryptography>=3.3.2->yfinance) (2.21)\n",
            "Installing collected packages: soupsieve, requests, html5lib, frozendict, cryptography, beautifulsoup4, yfinance\n",
            "  Attempting uninstall: requests\n",
            "    Found existing installation: requests 2.25.1\n",
            "    Uninstalling requests-2.25.1:\n",
            "      Successfully uninstalled requests-2.25.1\n",
            "  Attempting uninstall: html5lib\n",
            "    Found existing installation: html5lib 1.0.1\n",
            "    Uninstalling html5lib-1.0.1:\n",
            "      Successfully uninstalled html5lib-1.0.1\n",
            "  Attempting uninstall: beautifulsoup4\n",
            "    Found existing installation: beautifulsoup4 4.6.3\n",
            "    Uninstalling beautifulsoup4-4.6.3:\n",
            "      Successfully uninstalled beautifulsoup4-4.6.3\n",
            "Successfully installed beautifulsoup4-4.11.1 cryptography-39.0.0 frozendict-2.3.4 html5lib-1.1 requests-2.28.1 soupsieve-2.3.2.post1 yfinance-0.2.3\n"
          ]
        }
      ]
    },
    {
      "cell_type": "code",
      "execution_count": 4,
      "metadata": {
        "id": "tSeXWcnpE2cu"
      },
      "outputs": [],
      "source": [
        "import pandas as pd\n",
        "import matplotlib.pyplot as plt\n",
        "import numpy as np\n",
        "\n",
        "from datetime import datetime\n",
        "\n",
        "import warnings\n",
        "warnings.filterwarnings(\"ignore\")\n",
        "\n",
        "# to fetch data \n",
        "import yfinance as yf\n",
        "\n",
        "import scipy.stats as ss\n",
        "\n",
        "import py_vollib.black_scholes.greeks.analytical as derivatives\n",
        "\n",
        "import math"
      ]
    },
    {
      "cell_type": "markdown",
      "metadata": {
        "id": "HQp3r8T7FqfW"
      },
      "source": [
        "### Initialising everything required to calculate delta"
      ]
    },
    {
      "cell_type": "code",
      "execution_count": 9,
      "metadata": {
        "id": "sKL-8QSIE2dA",
        "colab": {
          "base_uri": "https://localhost:8080/",
          "height": 354
        },
        "outputId": "f149d0f9-6f68-49c9-8925-6e9bf8c6a24b"
      },
      "outputs": [
        {
          "output_type": "execute_result",
          "data": {
            "text/plain": [
              "      Symbol         Date       Expiry Option Type  Strike Price     Open  \\\n",
              "0  BANKNIFTY  28-May-2021  24-Jun-2021          CE         35000  1394.65   \n",
              "1  BANKNIFTY  31-May-2021  24-Jun-2021          CE         35000  1197.95   \n",
              "2  BANKNIFTY  01-Jun-2021  24-Jun-2021          CE         35000  1291.90   \n",
              "3  BANKNIFTY  02-Jun-2021  24-Jun-2021          CE         35000  1099.30   \n",
              "4  BANKNIFTY  03-Jun-2021  24-Jun-2021          CE         35000  1163.20   \n",
              "\n",
              "     High     Low    Close      LTP  Settle Price  No. of contracts  \\\n",
              "0  1459.5  1132.0  1213.55  1224.50       1213.55             18138   \n",
              "1  1339.0  1021.6  1308.30  1281.95       1308.30             14456   \n",
              "2  1398.0  1112.3  1155.05  1163.00       1155.05             15231   \n",
              "3  1145.7   982.5  1128.05  1122.00       1128.05             12258   \n",
              "4  1342.5  1111.7  1265.45  1270.00       1265.45              7511   \n",
              "\n",
              "   Turnover in Lacs  Premium  Open Int  Change in OI Underlying_Value  \n",
              "0         164479.84  5772.34    283425         39000         35141.45  \n",
              "1         130864.56  4374.56    245275        -38150                -  \n",
              "2         137967.95  4696.70    345025         99750                -  \n",
              "3         110507.46  3249.96    342375         -2650                -  \n",
              "4          68025.76  2304.51    307825        -34550                -  "
            ],
            "text/html": [
              "\n",
              "  <div id=\"df-56d6f35f-4b31-4072-b463-2a5a1c99e831\">\n",
              "    <div class=\"colab-df-container\">\n",
              "      <div>\n",
              "<style scoped>\n",
              "    .dataframe tbody tr th:only-of-type {\n",
              "        vertical-align: middle;\n",
              "    }\n",
              "\n",
              "    .dataframe tbody tr th {\n",
              "        vertical-align: top;\n",
              "    }\n",
              "\n",
              "    .dataframe thead th {\n",
              "        text-align: right;\n",
              "    }\n",
              "</style>\n",
              "<table border=\"1\" class=\"dataframe\">\n",
              "  <thead>\n",
              "    <tr style=\"text-align: right;\">\n",
              "      <th></th>\n",
              "      <th>Symbol</th>\n",
              "      <th>Date</th>\n",
              "      <th>Expiry</th>\n",
              "      <th>Option Type</th>\n",
              "      <th>Strike Price</th>\n",
              "      <th>Open</th>\n",
              "      <th>High</th>\n",
              "      <th>Low</th>\n",
              "      <th>Close</th>\n",
              "      <th>LTP</th>\n",
              "      <th>Settle Price</th>\n",
              "      <th>No. of contracts</th>\n",
              "      <th>Turnover in Lacs</th>\n",
              "      <th>Premium</th>\n",
              "      <th>Open Int</th>\n",
              "      <th>Change in OI</th>\n",
              "      <th>Underlying_Value</th>\n",
              "    </tr>\n",
              "  </thead>\n",
              "  <tbody>\n",
              "    <tr>\n",
              "      <th>0</th>\n",
              "      <td>BANKNIFTY</td>\n",
              "      <td>28-May-2021</td>\n",
              "      <td>24-Jun-2021</td>\n",
              "      <td>CE</td>\n",
              "      <td>35000</td>\n",
              "      <td>1394.65</td>\n",
              "      <td>1459.5</td>\n",
              "      <td>1132.0</td>\n",
              "      <td>1213.55</td>\n",
              "      <td>1224.50</td>\n",
              "      <td>1213.55</td>\n",
              "      <td>18138</td>\n",
              "      <td>164479.84</td>\n",
              "      <td>5772.34</td>\n",
              "      <td>283425</td>\n",
              "      <td>39000</td>\n",
              "      <td>35141.45</td>\n",
              "    </tr>\n",
              "    <tr>\n",
              "      <th>1</th>\n",
              "      <td>BANKNIFTY</td>\n",
              "      <td>31-May-2021</td>\n",
              "      <td>24-Jun-2021</td>\n",
              "      <td>CE</td>\n",
              "      <td>35000</td>\n",
              "      <td>1197.95</td>\n",
              "      <td>1339.0</td>\n",
              "      <td>1021.6</td>\n",
              "      <td>1308.30</td>\n",
              "      <td>1281.95</td>\n",
              "      <td>1308.30</td>\n",
              "      <td>14456</td>\n",
              "      <td>130864.56</td>\n",
              "      <td>4374.56</td>\n",
              "      <td>245275</td>\n",
              "      <td>-38150</td>\n",
              "      <td>-</td>\n",
              "    </tr>\n",
              "    <tr>\n",
              "      <th>2</th>\n",
              "      <td>BANKNIFTY</td>\n",
              "      <td>01-Jun-2021</td>\n",
              "      <td>24-Jun-2021</td>\n",
              "      <td>CE</td>\n",
              "      <td>35000</td>\n",
              "      <td>1291.90</td>\n",
              "      <td>1398.0</td>\n",
              "      <td>1112.3</td>\n",
              "      <td>1155.05</td>\n",
              "      <td>1163.00</td>\n",
              "      <td>1155.05</td>\n",
              "      <td>15231</td>\n",
              "      <td>137967.95</td>\n",
              "      <td>4696.70</td>\n",
              "      <td>345025</td>\n",
              "      <td>99750</td>\n",
              "      <td>-</td>\n",
              "    </tr>\n",
              "    <tr>\n",
              "      <th>3</th>\n",
              "      <td>BANKNIFTY</td>\n",
              "      <td>02-Jun-2021</td>\n",
              "      <td>24-Jun-2021</td>\n",
              "      <td>CE</td>\n",
              "      <td>35000</td>\n",
              "      <td>1099.30</td>\n",
              "      <td>1145.7</td>\n",
              "      <td>982.5</td>\n",
              "      <td>1128.05</td>\n",
              "      <td>1122.00</td>\n",
              "      <td>1128.05</td>\n",
              "      <td>12258</td>\n",
              "      <td>110507.46</td>\n",
              "      <td>3249.96</td>\n",
              "      <td>342375</td>\n",
              "      <td>-2650</td>\n",
              "      <td>-</td>\n",
              "    </tr>\n",
              "    <tr>\n",
              "      <th>4</th>\n",
              "      <td>BANKNIFTY</td>\n",
              "      <td>03-Jun-2021</td>\n",
              "      <td>24-Jun-2021</td>\n",
              "      <td>CE</td>\n",
              "      <td>35000</td>\n",
              "      <td>1163.20</td>\n",
              "      <td>1342.5</td>\n",
              "      <td>1111.7</td>\n",
              "      <td>1265.45</td>\n",
              "      <td>1270.00</td>\n",
              "      <td>1265.45</td>\n",
              "      <td>7511</td>\n",
              "      <td>68025.76</td>\n",
              "      <td>2304.51</td>\n",
              "      <td>307825</td>\n",
              "      <td>-34550</td>\n",
              "      <td>-</td>\n",
              "    </tr>\n",
              "  </tbody>\n",
              "</table>\n",
              "</div>\n",
              "      <button class=\"colab-df-convert\" onclick=\"convertToInteractive('df-56d6f35f-4b31-4072-b463-2a5a1c99e831')\"\n",
              "              title=\"Convert this dataframe to an interactive table.\"\n",
              "              style=\"display:none;\">\n",
              "        \n",
              "  <svg xmlns=\"http://www.w3.org/2000/svg\" height=\"24px\"viewBox=\"0 0 24 24\"\n",
              "       width=\"24px\">\n",
              "    <path d=\"M0 0h24v24H0V0z\" fill=\"none\"/>\n",
              "    <path d=\"M18.56 5.44l.94 2.06.94-2.06 2.06-.94-2.06-.94-.94-2.06-.94 2.06-2.06.94zm-11 1L8.5 8.5l.94-2.06 2.06-.94-2.06-.94L8.5 2.5l-.94 2.06-2.06.94zm10 10l.94 2.06.94-2.06 2.06-.94-2.06-.94-.94-2.06-.94 2.06-2.06.94z\"/><path d=\"M17.41 7.96l-1.37-1.37c-.4-.4-.92-.59-1.43-.59-.52 0-1.04.2-1.43.59L10.3 9.45l-7.72 7.72c-.78.78-.78 2.05 0 2.83L4 21.41c.39.39.9.59 1.41.59.51 0 1.02-.2 1.41-.59l7.78-7.78 2.81-2.81c.8-.78.8-2.07 0-2.86zM5.41 20L4 18.59l7.72-7.72 1.47 1.35L5.41 20z\"/>\n",
              "  </svg>\n",
              "      </button>\n",
              "      \n",
              "  <style>\n",
              "    .colab-df-container {\n",
              "      display:flex;\n",
              "      flex-wrap:wrap;\n",
              "      gap: 12px;\n",
              "    }\n",
              "\n",
              "    .colab-df-convert {\n",
              "      background-color: #E8F0FE;\n",
              "      border: none;\n",
              "      border-radius: 50%;\n",
              "      cursor: pointer;\n",
              "      display: none;\n",
              "      fill: #1967D2;\n",
              "      height: 32px;\n",
              "      padding: 0 0 0 0;\n",
              "      width: 32px;\n",
              "    }\n",
              "\n",
              "    .colab-df-convert:hover {\n",
              "      background-color: #E2EBFA;\n",
              "      box-shadow: 0px 1px 2px rgba(60, 64, 67, 0.3), 0px 1px 3px 1px rgba(60, 64, 67, 0.15);\n",
              "      fill: #174EA6;\n",
              "    }\n",
              "\n",
              "    [theme=dark] .colab-df-convert {\n",
              "      background-color: #3B4455;\n",
              "      fill: #D2E3FC;\n",
              "    }\n",
              "\n",
              "    [theme=dark] .colab-df-convert:hover {\n",
              "      background-color: #434B5C;\n",
              "      box-shadow: 0px 1px 3px 1px rgba(0, 0, 0, 0.15);\n",
              "      filter: drop-shadow(0px 1px 2px rgba(0, 0, 0, 0.3));\n",
              "      fill: #FFFFFF;\n",
              "    }\n",
              "  </style>\n",
              "\n",
              "      <script>\n",
              "        const buttonEl =\n",
              "          document.querySelector('#df-56d6f35f-4b31-4072-b463-2a5a1c99e831 button.colab-df-convert');\n",
              "        buttonEl.style.display =\n",
              "          google.colab.kernel.accessAllowed ? 'block' : 'none';\n",
              "\n",
              "        async function convertToInteractive(key) {\n",
              "          const element = document.querySelector('#df-56d6f35f-4b31-4072-b463-2a5a1c99e831');\n",
              "          const dataTable =\n",
              "            await google.colab.kernel.invokeFunction('convertToInteractive',\n",
              "                                                     [key], {});\n",
              "          if (!dataTable) return;\n",
              "\n",
              "          const docLinkHtml = 'Like what you see? Visit the ' +\n",
              "            '<a target=\"_blank\" href=https://colab.research.google.com/notebooks/data_table.ipynb>data table notebook</a>'\n",
              "            + ' to learn more about interactive tables.';\n",
              "          element.innerHTML = '';\n",
              "          dataTable['output_type'] = 'display_data';\n",
              "          await google.colab.output.renderOutput(dataTable, element);\n",
              "          const docLink = document.createElement('div');\n",
              "          docLink.innerHTML = docLinkHtml;\n",
              "          element.appendChild(docLink);\n",
              "        }\n",
              "      </script>\n",
              "    </div>\n",
              "  </div>\n",
              "  "
            ]
          },
          "metadata": {},
          "execution_count": 9
        }
      ],
      "source": [
        "df_call_35000 = pd.read_csv('/OPTIDX_BANKNIFTY_CE_28-May-2021_TO_24-Jun-2021_1.csv')\n",
        "df_call_35000.rename(columns = {'Premium Turnover in Lacs':'Premium'}, inplace = True)\n",
        "df_call_35000.rename(columns = {'Underlying Value':'Underlying_Value'}, inplace = True)\n",
        "df_call_35000.head()"
      ]
    },
    {
      "cell_type": "code",
      "execution_count": 10,
      "metadata": {
        "id": "uEVaLCxLE2dA",
        "colab": {
          "base_uri": "https://localhost:8080/",
          "height": 354
        },
        "outputId": "cf9b03a6-ea43-4084-a7da-5f69ad45bb60"
      },
      "outputs": [
        {
          "output_type": "execute_result",
          "data": {
            "text/plain": [
              "      Symbol         Date       Expiry Option Type  Strike Price    Open  \\\n",
              "0  BANKNIFTY  28-May-2021  24-Jun-2021          PE         35000  940.00   \n",
              "1  BANKNIFTY  31-May-2021  24-Jun-2021          PE         35000  886.00   \n",
              "2  BANKNIFTY  01-Jun-2021  24-Jun-2021          PE         35000  682.35   \n",
              "3  BANKNIFTY  02-Jun-2021  24-Jun-2021          PE         35000  747.50   \n",
              "4  BANKNIFTY  03-Jun-2021  24-Jun-2021          PE         35000  486.50   \n",
              "\n",
              "     High     Low   Close    LTP  Settle Price  No. of contracts  \\\n",
              "0  984.85  820.20  907.15  856.0        907.15             30957   \n",
              "1  975.50  690.45  706.40  713.9        706.40             22393   \n",
              "2  795.25  605.40  701.25  697.0        701.25             22207   \n",
              "3  799.95  581.80  601.55  587.7        601.55             18375   \n",
              "4  564.00  447.15  484.85  489.0        484.85             19913   \n",
              "\n",
              "   Turnover in Lacs  Premium  Open Int  Change in OI Underlying Value  \n",
              "0         277944.81  7071.06    217275         -3850         35141.45  \n",
              "1         200373.31  4434.56    215875         -1400                -  \n",
              "2         198214.51  3903.26    245775         29900                -  \n",
              "3         164002.20  3220.95    235300        -10475                -  \n",
              "4         176748.22  2509.47    217500        -17800                -  "
            ],
            "text/html": [
              "\n",
              "  <div id=\"df-46d6c8a3-e721-4e19-bcc7-c38ad8d1c50b\">\n",
              "    <div class=\"colab-df-container\">\n",
              "      <div>\n",
              "<style scoped>\n",
              "    .dataframe tbody tr th:only-of-type {\n",
              "        vertical-align: middle;\n",
              "    }\n",
              "\n",
              "    .dataframe tbody tr th {\n",
              "        vertical-align: top;\n",
              "    }\n",
              "\n",
              "    .dataframe thead th {\n",
              "        text-align: right;\n",
              "    }\n",
              "</style>\n",
              "<table border=\"1\" class=\"dataframe\">\n",
              "  <thead>\n",
              "    <tr style=\"text-align: right;\">\n",
              "      <th></th>\n",
              "      <th>Symbol</th>\n",
              "      <th>Date</th>\n",
              "      <th>Expiry</th>\n",
              "      <th>Option Type</th>\n",
              "      <th>Strike Price</th>\n",
              "      <th>Open</th>\n",
              "      <th>High</th>\n",
              "      <th>Low</th>\n",
              "      <th>Close</th>\n",
              "      <th>LTP</th>\n",
              "      <th>Settle Price</th>\n",
              "      <th>No. of contracts</th>\n",
              "      <th>Turnover in Lacs</th>\n",
              "      <th>Premium</th>\n",
              "      <th>Open Int</th>\n",
              "      <th>Change in OI</th>\n",
              "      <th>Underlying Value</th>\n",
              "    </tr>\n",
              "  </thead>\n",
              "  <tbody>\n",
              "    <tr>\n",
              "      <th>0</th>\n",
              "      <td>BANKNIFTY</td>\n",
              "      <td>28-May-2021</td>\n",
              "      <td>24-Jun-2021</td>\n",
              "      <td>PE</td>\n",
              "      <td>35000</td>\n",
              "      <td>940.00</td>\n",
              "      <td>984.85</td>\n",
              "      <td>820.20</td>\n",
              "      <td>907.15</td>\n",
              "      <td>856.0</td>\n",
              "      <td>907.15</td>\n",
              "      <td>30957</td>\n",
              "      <td>277944.81</td>\n",
              "      <td>7071.06</td>\n",
              "      <td>217275</td>\n",
              "      <td>-3850</td>\n",
              "      <td>35141.45</td>\n",
              "    </tr>\n",
              "    <tr>\n",
              "      <th>1</th>\n",
              "      <td>BANKNIFTY</td>\n",
              "      <td>31-May-2021</td>\n",
              "      <td>24-Jun-2021</td>\n",
              "      <td>PE</td>\n",
              "      <td>35000</td>\n",
              "      <td>886.00</td>\n",
              "      <td>975.50</td>\n",
              "      <td>690.45</td>\n",
              "      <td>706.40</td>\n",
              "      <td>713.9</td>\n",
              "      <td>706.40</td>\n",
              "      <td>22393</td>\n",
              "      <td>200373.31</td>\n",
              "      <td>4434.56</td>\n",
              "      <td>215875</td>\n",
              "      <td>-1400</td>\n",
              "      <td>-</td>\n",
              "    </tr>\n",
              "    <tr>\n",
              "      <th>2</th>\n",
              "      <td>BANKNIFTY</td>\n",
              "      <td>01-Jun-2021</td>\n",
              "      <td>24-Jun-2021</td>\n",
              "      <td>PE</td>\n",
              "      <td>35000</td>\n",
              "      <td>682.35</td>\n",
              "      <td>795.25</td>\n",
              "      <td>605.40</td>\n",
              "      <td>701.25</td>\n",
              "      <td>697.0</td>\n",
              "      <td>701.25</td>\n",
              "      <td>22207</td>\n",
              "      <td>198214.51</td>\n",
              "      <td>3903.26</td>\n",
              "      <td>245775</td>\n",
              "      <td>29900</td>\n",
              "      <td>-</td>\n",
              "    </tr>\n",
              "    <tr>\n",
              "      <th>3</th>\n",
              "      <td>BANKNIFTY</td>\n",
              "      <td>02-Jun-2021</td>\n",
              "      <td>24-Jun-2021</td>\n",
              "      <td>PE</td>\n",
              "      <td>35000</td>\n",
              "      <td>747.50</td>\n",
              "      <td>799.95</td>\n",
              "      <td>581.80</td>\n",
              "      <td>601.55</td>\n",
              "      <td>587.7</td>\n",
              "      <td>601.55</td>\n",
              "      <td>18375</td>\n",
              "      <td>164002.20</td>\n",
              "      <td>3220.95</td>\n",
              "      <td>235300</td>\n",
              "      <td>-10475</td>\n",
              "      <td>-</td>\n",
              "    </tr>\n",
              "    <tr>\n",
              "      <th>4</th>\n",
              "      <td>BANKNIFTY</td>\n",
              "      <td>03-Jun-2021</td>\n",
              "      <td>24-Jun-2021</td>\n",
              "      <td>PE</td>\n",
              "      <td>35000</td>\n",
              "      <td>486.50</td>\n",
              "      <td>564.00</td>\n",
              "      <td>447.15</td>\n",
              "      <td>484.85</td>\n",
              "      <td>489.0</td>\n",
              "      <td>484.85</td>\n",
              "      <td>19913</td>\n",
              "      <td>176748.22</td>\n",
              "      <td>2509.47</td>\n",
              "      <td>217500</td>\n",
              "      <td>-17800</td>\n",
              "      <td>-</td>\n",
              "    </tr>\n",
              "  </tbody>\n",
              "</table>\n",
              "</div>\n",
              "      <button class=\"colab-df-convert\" onclick=\"convertToInteractive('df-46d6c8a3-e721-4e19-bcc7-c38ad8d1c50b')\"\n",
              "              title=\"Convert this dataframe to an interactive table.\"\n",
              "              style=\"display:none;\">\n",
              "        \n",
              "  <svg xmlns=\"http://www.w3.org/2000/svg\" height=\"24px\"viewBox=\"0 0 24 24\"\n",
              "       width=\"24px\">\n",
              "    <path d=\"M0 0h24v24H0V0z\" fill=\"none\"/>\n",
              "    <path d=\"M18.56 5.44l.94 2.06.94-2.06 2.06-.94-2.06-.94-.94-2.06-.94 2.06-2.06.94zm-11 1L8.5 8.5l.94-2.06 2.06-.94-2.06-.94L8.5 2.5l-.94 2.06-2.06.94zm10 10l.94 2.06.94-2.06 2.06-.94-2.06-.94-.94-2.06-.94 2.06-2.06.94z\"/><path d=\"M17.41 7.96l-1.37-1.37c-.4-.4-.92-.59-1.43-.59-.52 0-1.04.2-1.43.59L10.3 9.45l-7.72 7.72c-.78.78-.78 2.05 0 2.83L4 21.41c.39.39.9.59 1.41.59.51 0 1.02-.2 1.41-.59l7.78-7.78 2.81-2.81c.8-.78.8-2.07 0-2.86zM5.41 20L4 18.59l7.72-7.72 1.47 1.35L5.41 20z\"/>\n",
              "  </svg>\n",
              "      </button>\n",
              "      \n",
              "  <style>\n",
              "    .colab-df-container {\n",
              "      display:flex;\n",
              "      flex-wrap:wrap;\n",
              "      gap: 12px;\n",
              "    }\n",
              "\n",
              "    .colab-df-convert {\n",
              "      background-color: #E8F0FE;\n",
              "      border: none;\n",
              "      border-radius: 50%;\n",
              "      cursor: pointer;\n",
              "      display: none;\n",
              "      fill: #1967D2;\n",
              "      height: 32px;\n",
              "      padding: 0 0 0 0;\n",
              "      width: 32px;\n",
              "    }\n",
              "\n",
              "    .colab-df-convert:hover {\n",
              "      background-color: #E2EBFA;\n",
              "      box-shadow: 0px 1px 2px rgba(60, 64, 67, 0.3), 0px 1px 3px 1px rgba(60, 64, 67, 0.15);\n",
              "      fill: #174EA6;\n",
              "    }\n",
              "\n",
              "    [theme=dark] .colab-df-convert {\n",
              "      background-color: #3B4455;\n",
              "      fill: #D2E3FC;\n",
              "    }\n",
              "\n",
              "    [theme=dark] .colab-df-convert:hover {\n",
              "      background-color: #434B5C;\n",
              "      box-shadow: 0px 1px 3px 1px rgba(0, 0, 0, 0.15);\n",
              "      filter: drop-shadow(0px 1px 2px rgba(0, 0, 0, 0.3));\n",
              "      fill: #FFFFFF;\n",
              "    }\n",
              "  </style>\n",
              "\n",
              "      <script>\n",
              "        const buttonEl =\n",
              "          document.querySelector('#df-46d6c8a3-e721-4e19-bcc7-c38ad8d1c50b button.colab-df-convert');\n",
              "        buttonEl.style.display =\n",
              "          google.colab.kernel.accessAllowed ? 'block' : 'none';\n",
              "\n",
              "        async function convertToInteractive(key) {\n",
              "          const element = document.querySelector('#df-46d6c8a3-e721-4e19-bcc7-c38ad8d1c50b');\n",
              "          const dataTable =\n",
              "            await google.colab.kernel.invokeFunction('convertToInteractive',\n",
              "                                                     [key], {});\n",
              "          if (!dataTable) return;\n",
              "\n",
              "          const docLinkHtml = 'Like what you see? Visit the ' +\n",
              "            '<a target=\"_blank\" href=https://colab.research.google.com/notebooks/data_table.ipynb>data table notebook</a>'\n",
              "            + ' to learn more about interactive tables.';\n",
              "          element.innerHTML = '';\n",
              "          dataTable['output_type'] = 'display_data';\n",
              "          await google.colab.output.renderOutput(dataTable, element);\n",
              "          const docLink = document.createElement('div');\n",
              "          docLink.innerHTML = docLinkHtml;\n",
              "          element.appendChild(docLink);\n",
              "        }\n",
              "      </script>\n",
              "    </div>\n",
              "  </div>\n",
              "  "
            ]
          },
          "metadata": {},
          "execution_count": 10
        }
      ],
      "source": [
        "df_put_35000 = pd.read_csv('/OPTIDX_BANKNIFTY_PE_28-May-2021_TO_24-Jun-2021.csv')\n",
        "df_put_35000.rename(columns = {'Premium Turnover in Lacs':'Premium'}, inplace = True)\n",
        "\n",
        "df_put_35000.head()"
      ]
    },
    {
      "cell_type": "markdown",
      "metadata": {
        "id": "KnyzjqQYE2dB"
      },
      "source": [
        "### Initialising everything required to calculate delta"
      ]
    },
    {
      "cell_type": "code",
      "execution_count": 20,
      "metadata": {
        "id": "gIqSbSG_E2dB"
      },
      "outputs": [],
      "source": [
        "#Assume we are starting the strategy at the opening time of 28th May\n",
        "S =  df_call_35000.Underlying_Value[0]  #price of the underlying\n",
        "\n",
        "K = 35000   #strike price\n",
        "date1= df_call_35000.Date[0]\n",
        "date2= df_call_35000.Expiry[0]\n",
        "t = pd.to_datetime(date2)- pd.to_datetime(date1)\n",
        "r=0.06\n",
        "delta_to_maintain = 0.3\n",
        "vol=10 \n",
        "sigma =vol\n"
      ]
    },
    {
      "cell_type": "markdown",
      "metadata": {
        "id": "_cBwEe9WE2dB"
      },
      "source": [
        "### Initial selling"
      ]
    },
    {
      "cell_type": "code",
      "execution_count": 21,
      "metadata": {
        "id": "-B-47F_3E2dB",
        "colab": {
          "base_uri": "https://localhost:8080/"
        },
        "outputId": "d6e7ff04-59e6-4ccb-cd67-f47d38a30fef"
      },
      "outputs": [
        {
          "output_type": "execute_result",
          "data": {
            "text/plain": [
              "940.0"
            ]
          },
          "metadata": {},
          "execution_count": 21
        }
      ],
      "source": [
        "no_of_lots_put = 10      #number of lots of put sold\n",
        "sell_avg_put = df_put_35000['Open'][0]   #_______   selling average of seeling those lots\n",
        "lot_size = 25\n",
        "delta =1*no_of_lots_put*lot_size   #  ______  total delta after selling 250 quantities of put\n",
        "sell_avg_put"
      ]
    },
    {
      "cell_type": "code",
      "execution_count": 22,
      "metadata": {
        "id": "FmUawU-OE2dC",
        "colab": {
          "base_uri": "https://localhost:8080/"
        },
        "outputId": "b3f9fe37-27f1-4c65-dff4-4461fec6a907"
      },
      "outputs": [
        {
          "output_type": "execute_result",
          "data": {
            "text/plain": [
              "250"
            ]
          },
          "metadata": {},
          "execution_count": 22
        }
      ],
      "source": [
        "delta"
      ]
    },
    {
      "cell_type": "code",
      "execution_count": 23,
      "metadata": {
        "id": "9lSbqtmmE2dC",
        "colab": {
          "base_uri": "https://localhost:8080/"
        },
        "outputId": "0cd55192-c861-4f4d-c2ad-971e2b4e3e13"
      },
      "outputs": [
        {
          "output_type": "execute_result",
          "data": {
            "text/plain": [
              "2500"
            ]
          },
          "metadata": {},
          "execution_count": 23
        }
      ],
      "source": [
        "delta_per_lot_call = delta*no_of_lots_put #_______  #delta per lot of call,i.e, delta of 25 quantities\n",
        "delta_per_lot_call"
      ]
    },
    {
      "cell_type": "code",
      "execution_count": 24,
      "metadata": {
        "id": "SSuVuWEME2dC",
        "colab": {
          "base_uri": "https://localhost:8080/"
        },
        "outputId": "99aebdf2-5acf-4575-b89a-dfba4fae6191"
      },
      "outputs": [
        {
          "output_type": "execute_result",
          "data": {
            "text/plain": [
              "10.0"
            ]
          },
          "metadata": {},
          "execution_count": 24
        }
      ],
      "source": [
        "number_of_lots_call = delta_per_lot_call/delta    #number of lots of call to be sold\n",
        "number_of_lots_call"
      ]
    },
    {
      "cell_type": "code",
      "execution_count": 18,
      "metadata": {
        "id": "DuDuo2pYE2dC",
        "colab": {
          "base_uri": "https://localhost:8080/"
        },
        "outputId": "5707c940-fec4-46d8-d22c-f3583ce31002"
      },
      "outputs": [
        {
          "output_type": "execute_result",
          "data": {
            "text/plain": [
              "1394.65"
            ]
          },
          "metadata": {},
          "execution_count": 18
        }
      ],
      "source": [
        "sell_avg_call = df_call_35000['Open'][0]   #selling average of that call options sold\n",
        "sell_avg_call"
      ]
    },
    {
      "cell_type": "code",
      "source": [
        "#length of the data\n",
        "len(df_put_35000)"
      ],
      "metadata": {
        "id": "CNbKJWewfh6y",
        "outputId": "5d3d6e52-3d12-4c9f-b7de-488c2874659b",
        "colab": {
          "base_uri": "https://localhost:8080/"
        }
      },
      "execution_count": 26,
      "outputs": [
        {
          "output_type": "execute_result",
          "data": {
            "text/plain": [
              "20"
            ]
          },
          "metadata": {},
          "execution_count": 26
        }
      ]
    },
    {
      "cell_type": "code",
      "execution_count": null,
      "metadata": {
        "id": "Gb11fBeEE2dD"
      },
      "outputs": [],
      "source": [
        "#Before delta management ans few questions:\n",
        "\n",
        "#Q1. If market moves up, what would happen to delta of put options? (increase/decrease)\n",
        "#Ans : decrease \n",
        "\n",
        "#Q2. If market moves up, what would happen to delta of call options? (increase/decrease)\n",
        "#Ans : increase\n",
        "\n",
        "#Q3. What would be your ideal strategy in terms of buying/selling call options if market moves up to maintain a delta of 0.\n",
        "#Ans :buy more options at today price\n",
        "\n",
        "'''\n",
        "Bonus Question: Assume that you have set a limit to selling of your quantities and you have reached that limit of yours.\n",
        "Now the market went up. You have to manage your delta such that the final quantity sold by you remains the same.\n",
        "What would you do?\n",
        "Hint : Think about changing the strikes of options\n",
        "\n",
        "Ans : ______\n",
        "'''"
      ]
    },
    {
      "cell_type": "markdown",
      "metadata": {
        "id": "Z57tZ-lJE2dD"
      },
      "source": [
        "### Delta Management"
      ]
    },
    {
      "cell_type": "code",
      "execution_count": null,
      "metadata": {
        "id": "GoXJgOfTE2dD"
      },
      "outputs": [],
      "source": [
        "number_of_lots_call =  number_of_lots_call  #number of call lots to be sold(same as above)\n",
        "sell_avg_call = sell_avg_call  #selling average(same as above)\n",
        "profit = []\n",
        "\n",
        "#Write the code for delta management\n",
        "\n",
        "for i in range(len(df_put_35000)-1):\n",
        "    delta_per_lot_call = #Calculate delta per lot at the next closing day\n",
        "    current_number_of_lots_call = #number of lots required to sell\n",
        "    no_of_lots_added =  #number of lots added/subtracted for selling\n",
        "    sell_avg_call = #new selling avg of call\n",
        "    number_of_lots_call = #update number of lots of calls sold\n",
        "    profit.append((df_fut['Close'][i]-buy_avg_future)*no_of_lots_fut*lot_size + (sell_avg_call-df_call_36000['Close'][i])*lot_size*number_of_lots_call)  #unrealised profit \n",
        "    #print(df_fut['Close'][i], buy_avg_future, sell_avg_call, df_call_36000['Close'][i])"
      ]
    },
    {
      "cell_type": "code",
      "execution_count": null,
      "metadata": {
        "id": "UPgdVOdhE2dD"
      },
      "outputs": [],
      "source": [
        "profit.append(_____)  #profit at the expiry as at expiry delta is not done and therefore cannot be calculated in the above loop"
      ]
    },
    {
      "cell_type": "code",
      "execution_count": null,
      "metadata": {
        "id": "zT3x4LaVE2dE"
      },
      "outputs": [],
      "source": [
        "profit"
      ]
    },
    {
      "cell_type": "code",
      "execution_count": null,
      "metadata": {
        "id": "fpFHCMC0E2dE"
      },
      "outputs": [],
      "source": [
        "#Plot the profit graph\n",
        "plt.plot(profit[:14], label = 'strategy_profit')\n",
        "plt.plot((df_fut['Close']-df_fut['Open'][0])[:14]*250, label = 'futures_profit')\n",
        "plt.legend()"
      ]
    },
    {
      "cell_type": "markdown",
      "metadata": {
        "id": "uDQna3kzE2dE"
      },
      "source": [
        "See the results you get by selling calls and puts and just managing delta at end of day"
      ]
    }
  ]
}